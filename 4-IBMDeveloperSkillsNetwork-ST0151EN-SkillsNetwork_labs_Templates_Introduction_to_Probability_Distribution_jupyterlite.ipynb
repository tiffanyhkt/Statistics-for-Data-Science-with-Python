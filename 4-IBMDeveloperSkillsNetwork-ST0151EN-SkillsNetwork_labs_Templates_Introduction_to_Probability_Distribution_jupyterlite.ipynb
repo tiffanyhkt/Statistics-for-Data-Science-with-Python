{
  "metadata": {
    "kernelspec": {
      "name": "python",
      "display_name": "Python (Pyodide)",
      "language": "python"
    },
    "language_info": {
      "codemirror_mode": {
        "name": "python",
        "version": 3
      },
      "file_extension": ".py",
      "mimetype": "text/x-python",
      "name": "python",
      "nbconvert_exporter": "python",
      "pygments_lexer": "ipython3",
      "version": "3.8"
    }
  },
  "nbformat_minor": 4,
  "nbformat": 4,
  "cells": [
    {
      "cell_type": "markdown",
      "source": "<p style=\"text-align:center\">\n    <a href=\"https://skills.network/?utm_medium=Exinfluencer&utm_source=Exinfluencer&utm_content=000026UJ&utm_term=10006555&utm_id=NA-SkillsNetwork-Channel-SkillsNetworkCoursesIBMDeveloperSkillsNetworkST0151ENSkillsNetwork20531532-2022-01-01\" target=\"_blank\">\n    <img src=\"https://cf-courses-data.s3.us.cloud-object-storage.appdomain.cloud/assets/logos/SN_web_lightmode.png\" width=\"200\" alt=\"Skills Network Logo\"  />\n    </a>\n</p>\n",
      "metadata": {}
    },
    {
      "cell_type": "markdown",
      "source": "# **Introduction to Probability Distribution**\n",
      "metadata": {}
    },
    {
      "cell_type": "markdown",
      "source": "Estimated time needed: **30** minutes\n",
      "metadata": {}
    },
    {
      "cell_type": "markdown",
      "source": "In this lab, you will familiarize yourself with the normal probability distributions and work on some exercises\n",
      "metadata": {}
    },
    {
      "cell_type": "markdown",
      "source": "## Objectives\n",
      "metadata": {}
    },
    {
      "cell_type": "markdown",
      "source": "*   Import Libraries\n*   Introduction to Probability Distributions\n*   Normal Distributions\n*   Lab Exercises\n",
      "metadata": {}
    },
    {
      "cell_type": "markdown",
      "source": "***\n",
      "metadata": {}
    },
    {
      "cell_type": "markdown",
      "source": "## Import Libraries\n",
      "metadata": {}
    },
    {
      "cell_type": "markdown",
      "source": "All Libraries required for this lab are listed below. The libraries pre-installed on Skills Network Labs are commented. If you run this notebook in a different environment, e.g. your desktop, you may need to uncomment and install certain libraries.\n",
      "metadata": {}
    },
    {
      "cell_type": "markdown",
      "source": "Import the libraries we need for the lab\n",
      "metadata": {}
    },
    {
      "cell_type": "code",
      "source": "import piplite\nawait piplite.install(['numpy'])\nawait piplite.install(['pandas'])",
      "metadata": {
        "trusted": true
      },
      "execution_count": 11,
      "outputs": []
    },
    {
      "cell_type": "code",
      "source": "import numpy as np\nimport pandas as pd\nimport matplotlib.pyplot as plt\nimport scipy.stats\nfrom math import sqrt",
      "metadata": {
        "trusted": true
      },
      "execution_count": 12,
      "outputs": []
    },
    {
      "cell_type": "markdown",
      "source": "Read in the csv file from the url using the request library\n",
      "metadata": {}
    },
    {
      "cell_type": "code",
      "source": "from js import fetch\nimport io\n\nURL = 'https://cf-courses-data.s3.us.cloud-object-storage.appdomain.cloud/IBMDeveloperSkillsNetwork-ST0151EN-SkillsNetwork/labs/teachingratings.csv'\nresp = await fetch(URL)\nratings_url = io.BytesIO((await resp.arrayBuffer()).to_py())",
      "metadata": {
        "trusted": true
      },
      "execution_count": 13,
      "outputs": []
    },
    {
      "cell_type": "code",
      "source": "ratings_df = pd.read_csv(ratings_url)\nratings_df",
      "metadata": {
        "trusted": true
      },
      "execution_count": 14,
      "outputs": [
        {
          "execution_count": 14,
          "output_type": "execute_result",
          "data": {
            "text/plain": "    minority  age  gender credits    beauty  eval division native tenure  \\\n0        yes   36  female    more  0.289916   4.3    upper    yes    yes   \n1        yes   36  female    more  0.289916   3.7    upper    yes    yes   \n2        yes   36  female    more  0.289916   3.6    upper    yes    yes   \n3        yes   36  female    more  0.289916   4.4    upper    yes    yes   \n4         no   59    male    more -0.737732   4.5    upper    yes    yes   \n..       ...  ...     ...     ...       ...   ...      ...    ...    ...   \n458       no   37    male    more  0.933396   3.5    upper    yes    yes   \n459       no   58  female    more  0.111563   3.5    upper    yes    yes   \n460       no   42    male    more -0.900580   4.0    upper    yes    yes   \n461       no   39    male    more  0.643014   4.3    upper    yes    yes   \n462       no   51  female    more  0.391822   3.0    upper    yes    yes   \n\n     students  allstudents  prof  PrimaryLast  vismin  female  single_credit  \\\n0          24           43     1            0       1       1              0   \n1          86          125     1            0       1       1              0   \n2          76          125     1            0       1       1              0   \n3          77          123     1            1       1       1              0   \n4          17           20     2            0       0       0              0   \n..        ...          ...   ...          ...     ...     ...            ...   \n458        15           17    40            1       0       0              0   \n459        26           34    47            1       0       1              0   \n460        45           86    61            1       0       0              0   \n461        22           29    62            1       0       0              0   \n462        47           67    69            1       0       1              0   \n\n     upper_division  English_speaker  tenured_prof  \n0                 1                1             1  \n1                 1                1             1  \n2                 1                1             1  \n3                 1                1             1  \n4                 1                1             1  \n..              ...              ...           ...  \n458               1                1             1  \n459               1                1             1  \n460               1                1             1  \n461               1                1             1  \n462               1                1             1  \n\n[463 rows x 19 columns]",
            "text/html": "<div>\n<style scoped>\n    .dataframe tbody tr th:only-of-type {\n        vertical-align: middle;\n    }\n\n    .dataframe tbody tr th {\n        vertical-align: top;\n    }\n\n    .dataframe thead th {\n        text-align: right;\n    }\n</style>\n<table border=\"1\" class=\"dataframe\">\n  <thead>\n    <tr style=\"text-align: right;\">\n      <th></th>\n      <th>minority</th>\n      <th>age</th>\n      <th>gender</th>\n      <th>credits</th>\n      <th>beauty</th>\n      <th>eval</th>\n      <th>division</th>\n      <th>native</th>\n      <th>tenure</th>\n      <th>students</th>\n      <th>allstudents</th>\n      <th>prof</th>\n      <th>PrimaryLast</th>\n      <th>vismin</th>\n      <th>female</th>\n      <th>single_credit</th>\n      <th>upper_division</th>\n      <th>English_speaker</th>\n      <th>tenured_prof</th>\n    </tr>\n  </thead>\n  <tbody>\n    <tr>\n      <th>0</th>\n      <td>yes</td>\n      <td>36</td>\n      <td>female</td>\n      <td>more</td>\n      <td>0.289916</td>\n      <td>4.3</td>\n      <td>upper</td>\n      <td>yes</td>\n      <td>yes</td>\n      <td>24</td>\n      <td>43</td>\n      <td>1</td>\n      <td>0</td>\n      <td>1</td>\n      <td>1</td>\n      <td>0</td>\n      <td>1</td>\n      <td>1</td>\n      <td>1</td>\n    </tr>\n    <tr>\n      <th>1</th>\n      <td>yes</td>\n      <td>36</td>\n      <td>female</td>\n      <td>more</td>\n      <td>0.289916</td>\n      <td>3.7</td>\n      <td>upper</td>\n      <td>yes</td>\n      <td>yes</td>\n      <td>86</td>\n      <td>125</td>\n      <td>1</td>\n      <td>0</td>\n      <td>1</td>\n      <td>1</td>\n      <td>0</td>\n      <td>1</td>\n      <td>1</td>\n      <td>1</td>\n    </tr>\n    <tr>\n      <th>2</th>\n      <td>yes</td>\n      <td>36</td>\n      <td>female</td>\n      <td>more</td>\n      <td>0.289916</td>\n      <td>3.6</td>\n      <td>upper</td>\n      <td>yes</td>\n      <td>yes</td>\n      <td>76</td>\n      <td>125</td>\n      <td>1</td>\n      <td>0</td>\n      <td>1</td>\n      <td>1</td>\n      <td>0</td>\n      <td>1</td>\n      <td>1</td>\n      <td>1</td>\n    </tr>\n    <tr>\n      <th>3</th>\n      <td>yes</td>\n      <td>36</td>\n      <td>female</td>\n      <td>more</td>\n      <td>0.289916</td>\n      <td>4.4</td>\n      <td>upper</td>\n      <td>yes</td>\n      <td>yes</td>\n      <td>77</td>\n      <td>123</td>\n      <td>1</td>\n      <td>1</td>\n      <td>1</td>\n      <td>1</td>\n      <td>0</td>\n      <td>1</td>\n      <td>1</td>\n      <td>1</td>\n    </tr>\n    <tr>\n      <th>4</th>\n      <td>no</td>\n      <td>59</td>\n      <td>male</td>\n      <td>more</td>\n      <td>-0.737732</td>\n      <td>4.5</td>\n      <td>upper</td>\n      <td>yes</td>\n      <td>yes</td>\n      <td>17</td>\n      <td>20</td>\n      <td>2</td>\n      <td>0</td>\n      <td>0</td>\n      <td>0</td>\n      <td>0</td>\n      <td>1</td>\n      <td>1</td>\n      <td>1</td>\n    </tr>\n    <tr>\n      <th>...</th>\n      <td>...</td>\n      <td>...</td>\n      <td>...</td>\n      <td>...</td>\n      <td>...</td>\n      <td>...</td>\n      <td>...</td>\n      <td>...</td>\n      <td>...</td>\n      <td>...</td>\n      <td>...</td>\n      <td>...</td>\n      <td>...</td>\n      <td>...</td>\n      <td>...</td>\n      <td>...</td>\n      <td>...</td>\n      <td>...</td>\n      <td>...</td>\n    </tr>\n    <tr>\n      <th>458</th>\n      <td>no</td>\n      <td>37</td>\n      <td>male</td>\n      <td>more</td>\n      <td>0.933396</td>\n      <td>3.5</td>\n      <td>upper</td>\n      <td>yes</td>\n      <td>yes</td>\n      <td>15</td>\n      <td>17</td>\n      <td>40</td>\n      <td>1</td>\n      <td>0</td>\n      <td>0</td>\n      <td>0</td>\n      <td>1</td>\n      <td>1</td>\n      <td>1</td>\n    </tr>\n    <tr>\n      <th>459</th>\n      <td>no</td>\n      <td>58</td>\n      <td>female</td>\n      <td>more</td>\n      <td>0.111563</td>\n      <td>3.5</td>\n      <td>upper</td>\n      <td>yes</td>\n      <td>yes</td>\n      <td>26</td>\n      <td>34</td>\n      <td>47</td>\n      <td>1</td>\n      <td>0</td>\n      <td>1</td>\n      <td>0</td>\n      <td>1</td>\n      <td>1</td>\n      <td>1</td>\n    </tr>\n    <tr>\n      <th>460</th>\n      <td>no</td>\n      <td>42</td>\n      <td>male</td>\n      <td>more</td>\n      <td>-0.900580</td>\n      <td>4.0</td>\n      <td>upper</td>\n      <td>yes</td>\n      <td>yes</td>\n      <td>45</td>\n      <td>86</td>\n      <td>61</td>\n      <td>1</td>\n      <td>0</td>\n      <td>0</td>\n      <td>0</td>\n      <td>1</td>\n      <td>1</td>\n      <td>1</td>\n    </tr>\n    <tr>\n      <th>461</th>\n      <td>no</td>\n      <td>39</td>\n      <td>male</td>\n      <td>more</td>\n      <td>0.643014</td>\n      <td>4.3</td>\n      <td>upper</td>\n      <td>yes</td>\n      <td>yes</td>\n      <td>22</td>\n      <td>29</td>\n      <td>62</td>\n      <td>1</td>\n      <td>0</td>\n      <td>0</td>\n      <td>0</td>\n      <td>1</td>\n      <td>1</td>\n      <td>1</td>\n    </tr>\n    <tr>\n      <th>462</th>\n      <td>no</td>\n      <td>51</td>\n      <td>female</td>\n      <td>more</td>\n      <td>0.391822</td>\n      <td>3.0</td>\n      <td>upper</td>\n      <td>yes</td>\n      <td>yes</td>\n      <td>47</td>\n      <td>67</td>\n      <td>69</td>\n      <td>1</td>\n      <td>0</td>\n      <td>1</td>\n      <td>0</td>\n      <td>1</td>\n      <td>1</td>\n      <td>1</td>\n    </tr>\n  </tbody>\n</table>\n<p>463 rows × 19 columns</p>\n</div>"
          },
          "metadata": {}
        }
      ]
    },
    {
      "cell_type": "markdown",
      "source": "## Introduction to Probability Distribution\n",
      "metadata": {}
    },
    {
      "cell_type": "markdown",
      "source": "In this section, you will learn how to create the plot distributions using the scipy library in python\n",
      "metadata": {}
    },
    {
      "cell_type": "markdown",
      "source": "### Normal Distribution\n",
      "metadata": {}
    },
    {
      "cell_type": "markdown",
      "source": "A normal distribution is a bell-shaped density curve described by its mean μ and standard deviation σ. The curve is symmetrical and centered around it's mean. A normal distribution curve looks like this:\n",
      "metadata": {}
    },
    {
      "cell_type": "markdown",
      "source": "![image.png](https://cf-courses-data.s3.us.cloud-object-storage.appdomain.cloud/IBMDeveloperSkillsNetwork-ST0151EN-SkillsNetwork/labs/Templates/images/normalcurve.png)\n",
      "metadata": {}
    },
    {
      "cell_type": "markdown",
      "source": "We can visualize the curve. Import norm from scipy.stat and plot graph with matplotlib\n",
      "metadata": {}
    },
    {
      "cell_type": "code",
      "source": "from scipy.stats import norm\n\n# Plot between -4 and 4 with 0.1 steps.\nx_axis = np.arange(-4, 4, 0.1)\n# Mean = 0, SD = 1.\nplt.plot(x_axis, norm.pdf(x_axis, 0, 1)) # mean: 0 and standard deviation: 1 \n#plotting the standard normal distribution.\nplt.show()",
      "metadata": {
        "trusted": true
      },
      "execution_count": 19,
      "outputs": [
        {
          "output_type": "display_data",
          "data": {
            "text/plain": "<Figure size 640x480 with 1 Axes>",
            "image/png": "[encoded data removed]"
          },
          "metadata": {}
        }
      ]
    },
    {
      "cell_type": "markdown",
      "source": "## Lab Exercises\n",
      "metadata": {}
    },
    {
      "cell_type": "markdown",
      "source": "### Using the teachers' rating dataset, what is the probability of receiving an evaluation score of greater than 4.5\n",
      "metadata": {}
    },
    {
      "cell_type": "markdown",
      "source": "Find the mean and standard deviation of teachers' evaluation scores\n",
      "metadata": {}
    },
    {
      "cell_type": "code",
      "source": "eval_mean = round(ratings_df['eval'].mean(), 3)\neval_sd = round(ratings_df['eval'].std(), 3)\nprint(eval_mean, eval_sd)",
      "metadata": {
        "trusted": true
      },
      "execution_count": 20,
      "outputs": [
        {
          "name": "stdout",
          "text": "3.998 0.555\n",
          "output_type": "stream"
        }
      ]
    },
    {
      "cell_type": "markdown",
      "source": "Use the scipy.stats module. Because python only looks to the left i.e. less than, we do remove the probability from 1 to get the other side of the tail\n",
      "metadata": {}
    },
    {
      "cell_type": "code",
      "source": "prob0 = scipy.stats.norm.cdf((4.5 - eval_mean)/eval_sd)\nprob0\nprint(1 - prob0)",
      "metadata": {
        "trusted": true
      },
      "execution_count": 22,
      "outputs": [
        {
          "name": "stdout",
          "text": "0.1828639734596742\n",
          "output_type": "stream"
        }
      ]
    },
    {
      "cell_type": "markdown",
      "source": "### Using the teachers' rating dataset, what is the probability of receiving an evaluation score greater than 3.5 and less than 4.2\n",
      "metadata": {}
    },
    {
      "cell_type": "markdown",
      "source": "First we find the probability of getting evaluation scores less than 3.5 using the <code>norm.cdf</code> function\n",
      "metadata": {}
    },
    {
      "cell_type": "code",
      "source": "x1 = 3.5\nprob1 = scipy.stats.norm.cdf((x1 - eval_mean)/eval_sd)\nprint(prob1)",
      "metadata": {
        "trusted": true
      },
      "execution_count": 23,
      "outputs": [
        {
          "name": "stdout",
          "text": "0.1847801491443654\n",
          "output_type": "stream"
        }
      ]
    },
    {
      "cell_type": "markdown",
      "source": "Then for less than 4.2\n",
      "metadata": {}
    },
    {
      "cell_type": "code",
      "source": "x2 = 4.2\nprob2 = scipy.stats.norm.cdf((x2 - eval_mean)/eval_sd)\nprint(prob2)\nprint(1-prob2)",
      "metadata": {
        "trusted": true
      },
      "execution_count": 26,
      "outputs": [
        {
          "name": "stdout",
          "text": "0.642057540461896\n0.357942459538104\n",
          "output_type": "stream"
        }
      ]
    },
    {
      "cell_type": "markdown",
      "source": "The probability of a teacher receiving an evaluation score that is between 3.5 and 4.2 is:\n",
      "metadata": {}
    },
    {
      "cell_type": "code",
      "source": "print(round(1-(prob1)-(1-prob2),3))\nprint(round((prob2 - prob1)*100, 1),\"%\")",
      "metadata": {
        "trusted": true
      },
      "execution_count": 31,
      "outputs": [
        {
          "name": "stdout",
          "text": "0.457\n45.7 %\n",
          "output_type": "stream"
        }
      ]
    },
    {
      "cell_type": "markdown",
      "source": "### Using the two-tailed test from a normal distribution:\n\n*   A professional  basketball  team wants to compare its performance with  that of players  in a regional league.\n*   The pros are known to have a historic mean of 12 points  per game with  a standard  deviation  of 5.5.\n*   A group  of 36 regional players recorded on average 10.7 points  per game.\n*   The pro coach would like to know whether  his professional  team scores on average are different from that of the regional players.\n",
      "metadata": {}
    },
    {
      "cell_type": "markdown",
      "source": "State the null hypothesis\n\n*   $H\\_0$: $x = µ\\_1$ (\"The mean point of the regional players is not different from the historic mean\")\n*   $H\\_1$: $x ≠ µ\\_1$ (\"The mean point of the regional players is different from the historic mean\")\n",
      "metadata": {}
    },
    {
      "cell_type": "markdown",
      "source": "When the population standard deviation is given and we are asked to deal with a sub-sample, the size (n) of the sub-sample is used in the formula:\n![image.png](attachment:image.png)\n",
      "metadata": {}
    },
    {
      "cell_type": "code",
      "source": "#求 t 值 \n## because it is a two-tailed test we multiply by 2\nt = (10.7-12)/(5.5/sqrt(36))\nprint(t)\n\n# This function, scipy.stats.norm.cdf, computes the cumulative distribution function of the standard normal distribution.\n#It returns the probability (P值) that a random variable from a standard normal distribution is less than or equal to the specified z-score.\n#\n2*round(scipy.stats.norm.cdf(t), 3)",
      "metadata": {
        "trusted": true
      },
      "execution_count": 37,
      "outputs": [
        {
          "name": "stdout",
          "text": "-1.418181818181819\n",
          "output_type": "stream"
        },
        {
          "execution_count": 37,
          "output_type": "execute_result",
          "data": {
            "text/plain": "0.156"
          },
          "metadata": {}
        }
      ]
    },
    {
      "cell_type": "markdown",
      "source": "**Conclusion:** Because the p-value is greater than 0.05, we fail  to reject the null hypothesis as there is no sufficient evidence to prove that the mean point of the regional players is different from the historic mean\n",
      "metadata": {}
    },
    {
      "cell_type": "markdown",
      "source": "## Practice Questions\n",
      "metadata": {}
    },
    {
      "cell_type": "markdown",
      "source": "### Question 1: Using the teachers' rating dataset, what is the probability of receiving an evaluation score greater than 3.3?\n",
      "metadata": {}
    },
    {
      "cell_type": "code",
      "source": "## insert code here\nmean = ratings_df['eval'].mean()\nstd = ratings_df['eval'].std()\nprint(mean, std)\n\nx1 = 3.3\nz = (x1-mean)/std\nprint(z)\n\nprob = scipy.stats.norm.cdf(z)\neval_greater_than_3_3 = 1-prob\nprint(eval_greater_than_3_3)",
      "metadata": {
        "trusted": true
      },
      "execution_count": 45,
      "outputs": [
        {
          "name": "stdout",
          "text": "3.9982721362721585 0.5548655704870065\n-1.2584528098567802\n0.8958859783111208\n",
          "output_type": "stream"
        }
      ]
    },
    {
      "cell_type": "code",
      "source": "ratings_df.describe()",
      "metadata": {
        "trusted": true
      },
      "execution_count": 48,
      "outputs": [
        {
          "execution_count": 48,
          "output_type": "execute_result",
          "data": {
            "text/plain": "              age        beauty        eval    students  allstudents  \\\ncount  463.000000  4.630000e+02  463.000000  463.000000   463.000000   \nmean    48.365011  6.271140e-08    3.998272   36.624190    55.177106   \nstd      9.802742  7.886477e-01    0.554866   45.018481    75.072800   \nmin     29.000000 -1.450494e+00    2.100000    5.000000     8.000000   \n25%     42.000000 -6.562689e-01    3.600000   15.000000    19.000000   \n50%     48.000000 -6.801430e-02    4.000000   23.000000    29.000000   \n75%     57.000000  5.456024e-01    4.400000   40.000000    60.000000   \nmax     73.000000  1.970023e+00    5.000000  380.000000   581.000000   \n\n             prof  PrimaryLast      vismin      female  single_credit  \\\ncount  463.000000   463.000000  463.000000  463.000000     463.000000   \nmean    45.434125     0.203024    0.138229    0.421166       0.058315   \nstd     27.508902     0.402685    0.345513    0.494280       0.234592   \nmin      1.000000     0.000000    0.000000    0.000000       0.000000   \n25%     20.000000     0.000000    0.000000    0.000000       0.000000   \n50%     44.000000     0.000000    0.000000    0.000000       0.000000   \n75%     70.500000     0.000000    0.000000    1.000000       0.000000   \nmax     94.000000     1.000000    1.000000    1.000000       1.000000   \n\n       upper_division  English_speaker  tenured_prof  \ncount      463.000000       463.000000    463.000000  \nmean         0.660907         0.939525      0.779698  \nstd          0.473913         0.238623      0.414899  \nmin          0.000000         0.000000      0.000000  \n25%          0.000000         1.000000      1.000000  \n50%          1.000000         1.000000      1.000000  \n75%          1.000000         1.000000      1.000000  \nmax          1.000000         1.000000      1.000000  ",
            "text/html": "<div>\n<style scoped>\n    .dataframe tbody tr th:only-of-type {\n        vertical-align: middle;\n    }\n\n    .dataframe tbody tr th {\n        vertical-align: top;\n    }\n\n    .dataframe thead th {\n        text-align: right;\n    }\n</style>\n<table border=\"1\" class=\"dataframe\">\n  <thead>\n    <tr style=\"text-align: right;\">\n      <th></th>\n      <th>age</th>\n      <th>beauty</th>\n      <th>eval</th>\n      <th>students</th>\n      <th>allstudents</th>\n      <th>prof</th>\n      <th>PrimaryLast</th>\n      <th>vismin</th>\n      <th>female</th>\n      <th>single_credit</th>\n      <th>upper_division</th>\n      <th>English_speaker</th>\n      <th>tenured_prof</th>\n    </tr>\n  </thead>\n  <tbody>\n    <tr>\n      <th>count</th>\n      <td>463.000000</td>\n      <td>4.630000e+02</td>\n      <td>463.000000</td>\n      <td>463.000000</td>\n      <td>463.000000</td>\n      <td>463.000000</td>\n      <td>463.000000</td>\n      <td>463.000000</td>\n      <td>463.000000</td>\n      <td>463.000000</td>\n      <td>463.000000</td>\n      <td>463.000000</td>\n      <td>463.000000</td>\n    </tr>\n    <tr>\n      <th>mean</th>\n      <td>48.365011</td>\n      <td>6.271140e-08</td>\n      <td>3.998272</td>\n      <td>36.624190</td>\n      <td>55.177106</td>\n      <td>45.434125</td>\n      <td>0.203024</td>\n      <td>0.138229</td>\n      <td>0.421166</td>\n      <td>0.058315</td>\n      <td>0.660907</td>\n      <td>0.939525</td>\n      <td>0.779698</td>\n    </tr>\n    <tr>\n      <th>std</th>\n      <td>9.802742</td>\n      <td>7.886477e-01</td>\n      <td>0.554866</td>\n      <td>45.018481</td>\n      <td>75.072800</td>\n      <td>27.508902</td>\n      <td>0.402685</td>\n      <td>0.345513</td>\n      <td>0.494280</td>\n      <td>0.234592</td>\n      <td>0.473913</td>\n      <td>0.238623</td>\n      <td>0.414899</td>\n    </tr>\n    <tr>\n      <th>min</th>\n      <td>29.000000</td>\n      <td>-1.450494e+00</td>\n      <td>2.100000</td>\n      <td>5.000000</td>\n      <td>8.000000</td>\n      <td>1.000000</td>\n      <td>0.000000</td>\n      <td>0.000000</td>\n      <td>0.000000</td>\n      <td>0.000000</td>\n      <td>0.000000</td>\n      <td>0.000000</td>\n      <td>0.000000</td>\n    </tr>\n    <tr>\n      <th>25%</th>\n      <td>42.000000</td>\n      <td>-6.562689e-01</td>\n      <td>3.600000</td>\n      <td>15.000000</td>\n      <td>19.000000</td>\n      <td>20.000000</td>\n      <td>0.000000</td>\n      <td>0.000000</td>\n      <td>0.000000</td>\n      <td>0.000000</td>\n      <td>0.000000</td>\n      <td>1.000000</td>\n      <td>1.000000</td>\n    </tr>\n    <tr>\n      <th>50%</th>\n      <td>48.000000</td>\n      <td>-6.801430e-02</td>\n      <td>4.000000</td>\n      <td>23.000000</td>\n      <td>29.000000</td>\n      <td>44.000000</td>\n      <td>0.000000</td>\n      <td>0.000000</td>\n      <td>0.000000</td>\n      <td>0.000000</td>\n      <td>1.000000</td>\n      <td>1.000000</td>\n      <td>1.000000</td>\n    </tr>\n    <tr>\n      <th>75%</th>\n      <td>57.000000</td>\n      <td>5.456024e-01</td>\n      <td>4.400000</td>\n      <td>40.000000</td>\n      <td>60.000000</td>\n      <td>70.500000</td>\n      <td>0.000000</td>\n      <td>0.000000</td>\n      <td>1.000000</td>\n      <td>0.000000</td>\n      <td>1.000000</td>\n      <td>1.000000</td>\n      <td>1.000000</td>\n    </tr>\n    <tr>\n      <th>max</th>\n      <td>73.000000</td>\n      <td>1.970023e+00</td>\n      <td>5.000000</td>\n      <td>380.000000</td>\n      <td>581.000000</td>\n      <td>94.000000</td>\n      <td>1.000000</td>\n      <td>1.000000</td>\n      <td>1.000000</td>\n      <td>1.000000</td>\n      <td>1.000000</td>\n      <td>1.000000</td>\n      <td>1.000000</td>\n    </tr>\n  </tbody>\n</table>\n</div>"
          },
          "metadata": {}
        }
      ]
    },
    {
      "cell_type": "markdown",
      "source": "Double-click **here** for the solution.\n\n<!-- The answer is below:\n##calculate the probability less than 3.3\nprob_less_than = scipy.stats.norm.cdf((3.3 - eval_mean)/eval_sd)\n##then remove the probability from 1 to get the area to the right of 3.3\nprint(1 - prob_less_than)\n-->\n",
      "metadata": {}
    },
    {
      "cell_type": "code",
      "source": "prob_less_than = scipy.stats.norm.cdf((3.3 - eval_mean)/eval_sd)\n##then remove the probability from 1 to get the area to the right of 3.3\nprint(1 - prob_less_than)",
      "metadata": {
        "trusted": true
      },
      "execution_count": 46,
      "outputs": [
        {
          "name": "stdout",
          "text": "0.8957422041794154\n",
          "output_type": "stream"
        }
      ]
    },
    {
      "cell_type": "markdown",
      "source": "### Question 2: Using the teachers' rating dataset, what is the probability of receiving an evaluation score between 2 and 3?\n",
      "metadata": {}
    },
    {
      "cell_type": "code",
      "source": "## insert code here\n\nx1=2\nz1=(x1-mean)/std\nprint(z1)\n\nx2=3\nz2=(x2-mean)/std\nprint(z2)\n\nprob1 = scipy.stats.norm.cdf(z1)\nprob2 = scipy.stats.norm.cdf(z2)\nAns = prob2 - prob1\nprint(Ans)",
      "metadata": {
        "trusted": true
      },
      "execution_count": 50,
      "outputs": [
        {
          "name": "stdout",
          "text": "-3.601362640897455\n-1.799124309327705\n0.03584123270783779\n",
          "output_type": "stream"
        }
      ]
    },
    {
      "cell_type": "markdown",
      "source": "Double-click **here** for the solution.\n\n<!-- The answer is below:\n## find the probablity of reciving a score of less than 2\nprob_less_than_2 = scipy.stats.norm.cdf((x1 - eval_mean)/eval_sd)\nprint(prob_less_than_2)\n\n## find the probablity of reciving a score of less than 3\nprob_less_than_3 = scipy.stats.norm.cdf((x2 - eval_mean)/eval_sd)\nprint(prob_less_than_3)\n\n## remove both probabilities from each other\nround((prob_less_than_3 - prob_less_than_2)*100, 1)\n-->\n",
      "metadata": {}
    },
    {
      "cell_type": "code",
      "source": "## find the probablity of reciving a score of less than 2\nprob_less_than_2 = scipy.stats.norm.cdf((x1 - eval_mean)/eval_sd)\nprint(prob_less_than_2)\n\n## find the probablity of reciving a score of less than 3\nprob_less_than_3 = scipy.stats.norm.cdf((x2 - eval_mean)/eval_sd)\nprint(prob_less_than_3)\n\n## remove both probabilities from each other\nround((prob_less_than_3 - prob_less_than_2)*100, 1)",
      "metadata": {
        "trusted": true
      },
      "execution_count": 51,
      "outputs": [
        {
          "name": "stdout",
          "text": "0.00015910859015753364\n0.03607280250262359\n",
          "output_type": "stream"
        },
        {
          "execution_count": 51,
          "output_type": "execute_result",
          "data": {
            "text/plain": "3.6"
          },
          "metadata": {}
        }
      ]
    },
    {
      "cell_type": "markdown",
      "source": "### Question 3: To test the hypothesis that sleeping for at least 8 hours makes one smarter, 12 people who have slept for at least 8 hours every day  for the past one year  have their IQ tested.\n\n*   Here are the results: 116, 111, 101, 120, 99, 94, 106, 115, 107, 101, 110, 92\n*   Test using the following hypotheses: H0: μ = 100 or Ha: μ > 100\n",
      "metadata": {}
    },
    {
      "cell_type": "code",
      "source": "## insert code here\nimport statistics\n\nnum = [116, 111, 101, 120, 99, 94, 106, 115, 107, 101, 110, 92]\nm = sum(num)/len(num)\nprint(\"mean:\", m)\n\nstd = statistics.stdev(num)\nprint(\"standard deviation:\", std)\n\n#t test\nt = (m-100)/(std/sqrt(12))\nprint(\"t value:\", t)\n\n#計算P值\n# when you test if something is greater than a certain value (e.g., \"μ > 100\" in your case), you are looking at the right tail of the distribution. \n#**the calculation of the p-value using 1 - scipy.stats.norm.cdf(t) to represent the right tail of the distribution.\np = round(1 - scipy.stats.norm.cdf(t), 3)\nprint('p value:', p)\n\nif p >= 0.05:\n    print(\"p >= 0.05 -> Do not reject H0, There is no evidence that sleeping for at least 8 hours makes one smarter\")\nelse:\n    print(\"p < 0.05 -> Reject H0, There is evidence that sleeping for at least 8 hours makes one smarter\")\n    ",
      "metadata": {
        "trusted": true
      },
      "execution_count": 75,
      "outputs": [
        {
          "name": "stdout",
          "text": "mean: 106.0\nstandard deviation: 8.831760866327848\nt value: 2.353393621658208\np value: 0.009\np < 0.05 -> Reject H0, There is evidence that sleeping for at least 8 hours makes one smarter\n",
          "output_type": "stream"
        }
      ]
    },
    {
      "cell_type": "markdown",
      "source": "Double-click **here** for a hint.\n\n<!-- The hint is below:\n### find the mean and standard deviation of the 12 IQs\niqs = [116, 111, 101, 120, 99, 94, 106, 115, 107, 101, 110, 92]\nsample_size = len(iqs)\ndegree_freedom = sample_size - 1\niq_mean = sum(iqs) / sample_size\nmean_diff = [(iq - iq_mean) ** 2 for iq in iqs]\niq_std = sqrt(sum(mean_diff) / degree_freedom)\nvariance = iq_std ** 2\n-->\n",
      "metadata": {}
    },
    {
      "cell_type": "markdown",
      "source": "Double-click **here** for the solution.\n\n<!-- The answer is below:\n### remember to remove from 1 because we want the value for when IQs are greater than 100\niqs = [116, 111, 101, 120, 99, 94, 106, 115, 107, 101, 110, 92]\nsample_size = len(iqs)\ndegree_freedom = sample_size - 1\niq_mean = sum(iqs) / sample_size\nmean_diff = [(iq - iq_mean) ** 2 for iq in iqs]\niq_std = sqrt(sum(mean_diff) / degree_freedom)\nvariance = iq_std ** 2\nprint(f\"IQ mean is {iq_mean}, sd is {iq_std}, variance is {variance}\")\nround(1-scipy.stats.norm.cdf((iq_mean - 100)/(iq_std/sqrt(12))), 3)\n-->\n",
      "metadata": {}
    },
    {
      "cell_type": "code",
      "source": "### remember to remove from 1 because we want the value for when IQs are greater than 100\niqs = [116, 111, 101, 120, 99, 94, 106, 115, 107, 101, 110, 92]\nsample_size = len(iqs)\ndegree_freedom = sample_size - 1\niq_mean = sum(iqs) / sample_size\nmean_diff = [(iq - iq_mean) ** 2 for iq in iqs]\niq_std = sqrt(sum(mean_diff) / degree_freedom)\nvariance = iq_std ** 2\nprint(f\"IQ mean is {iq_mean}, sd is {iq_std}, variance is {variance}\")\nround(1-scipy.stats.norm.cdf((iq_mean - 100)/(iq_std/sqrt(12))), 3)",
      "metadata": {
        "trusted": true
      },
      "execution_count": 76,
      "outputs": [
        {
          "name": "stdout",
          "text": "IQ mean is 106.0, sd is 8.831760866327848, variance is 78.00000000000001\n",
          "output_type": "stream"
        },
        {
          "execution_count": 76,
          "output_type": "execute_result",
          "data": {
            "text/plain": "0.009"
          },
          "metadata": {}
        }
      ]
    },
    {
      "cell_type": "markdown",
      "source": "## Authors\n\n[Pratiksha Verma](https://www.linkedin.com/in/pratiksha-verma-6487561b1/?utm_medium=Exinfluencer&utm_source=Exinfluencer&utm_content=000026UJ&utm_term=10006555&utm_id=NA-SkillsNetwork-Channel-SkillsNetworkCoursesIBMDeveloperSkillsNetworkST0151ENSkillsNetwork956-2022-01-01)\n\n## Change Log\n\n| Date (YYYY-MM-DD) | Version | Changed By      | Change Description      |\n| ----------------- | ------- | -------------   | ----------------------- |\n| 2022-11-09        | 1.0     | Pratiksha Verma | Converted initial version to Jupyterlite|\n\n\n<hr>\n\n## <h3 align=\"center\"> IBM Corporation 2022. All rights reserved. <h3/>\n",
      "metadata": {}
    }
  ]
}