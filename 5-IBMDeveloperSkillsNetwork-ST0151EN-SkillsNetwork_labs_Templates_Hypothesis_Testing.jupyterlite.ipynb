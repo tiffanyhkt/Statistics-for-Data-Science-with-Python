{
  "metadata": {
    "language_info": {
      "codemirror_mode": {
        "name": "python",
        "version": 3
      },
      "file_extension": ".py",
      "mimetype": "text/x-python",
      "name": "python",
      "nbconvert_exporter": "python",
      "pygments_lexer": "ipython3",
      "version": "3.8"
    },
    "kernelspec": {
      "name": "python",
      "display_name": "Python (Pyodide)",
      "language": "python"
    }
  },
  "nbformat_minor": 4,
  "nbformat": 4,
  "cells": [
    {
      "cell_type": "markdown",
      "source": "<p style=\"text-align:center\">\n    <a href=\"https://skills.network/?utm_medium=Exinfluencer&utm_source=Exinfluencer&utm_content=000026UJ&utm_term=10006555&utm_id=NA-SkillsNetwork-Channel-SkillsNetworkCoursesIBMDeveloperSkillsNetworkST0151ENSkillsNetwork20531532-2022-01-01\">\n    <img src=\"https://cf-courses-data.s3.us.cloud-object-storage.appdomain.cloud/assets/logos/SN_web_lightmode.png\" width=\"200\" alt=\"Skills Network Logo\"  />\n    </a>\n</p>\n",
      "metadata": {}
    },
    {
      "cell_type": "markdown",
      "source": "# **Hypothesis Testing**\n",
      "metadata": {}
    },
    {
      "cell_type": "markdown",
      "source": "Estimated time needed: **30** minutes\n",
      "metadata": {}
    },
    {
      "cell_type": "markdown",
      "source": "The goal of hypothesis testing is to answer the question, “Given a sample and an apparent effect, what is the probability of seeing such an effect by chance?” The first step is to quantify the size of the apparent effect by choosing a test statistic (t-test, ANOVA, etc). The next step is to define a null hypothesis, which is a model of the system based on the assumption that the apparent effect is not real. Then compute the p-value, which is the probability of the null hypothesis being true, and finally interpret the result of the p-value, if the value is low, the effect is said to be statistically significant, which means that the null hypothesis may not be accurate.\n",
      "metadata": {}
    },
    {
      "cell_type": "markdown",
      "source": "## Objectives\n",
      "metadata": {}
    },
    {
      "cell_type": "markdown",
      "source": "*   Import Libraries\n*   Lab exercises\n    *   Stating the hypothesis\n    *   Levene's Test for equality\n    *   Preparing your data for hypothesis testing\n*   Quiz\n",
      "metadata": {}
    },
    {
      "cell_type": "markdown",
      "source": "***\n",
      "metadata": {}
    },
    {
      "cell_type": "markdown",
      "source": "## Import Libraries\n",
      "metadata": {}
    },
    {
      "cell_type": "markdown",
      "source": "All Libraries required for this lab are listed below. The libraries pre-installed on Skills Network Labs are commented. If you run this notebook in a different environment, e.g. your desktop, you may need to uncomment and install certain libraries.\n",
      "metadata": {}
    },
    {
      "cell_type": "code",
      "source": "#install specific version of libraries used in lab\n#! mamba install pandas==1.3.3\n#! mamba install numpy=1.21.2\n#! mamba install scipy=1.7.1-y\n#!  mamba install seaborn=0.9.0-y\n#!  mamba install matplotlib=3.4.3-y\n#!  mamba install statsmodels=0.12.0-y",
      "metadata": {
        "trusted": true
      },
      "execution_count": 2,
      "outputs": []
    },
    {
      "cell_type": "markdown",
      "source": "Import the libraries we need for the lab\n",
      "metadata": {}
    },
    {
      "cell_type": "code",
      "source": "import piplite\nawait piplite.install(['numpy'],['pandas'])\nawait piplite.install(['seaborn'])",
      "metadata": {
        "trusted": true
      },
      "execution_count": 3,
      "outputs": []
    },
    {
      "cell_type": "code",
      "source": "import numpy as np\nimport pandas as pd\nimport seaborn as sns\nimport matplotlib.pyplot as plt\nimport scipy.stats",
      "metadata": {
        "trusted": true
      },
      "execution_count": 4,
      "outputs": []
    },
    {
      "cell_type": "code",
      "source": "from js import fetch\nimport io\n\nURL = 'https://cf-courses-data.s3.us.cloud-object-storage.appdomain.cloud/IBMDeveloperSkillsNetwork-ST0151EN-SkillsNetwork/labs/teachingratings.csv'\nresp = await fetch(URL)\nratings_url = io.BytesIO((await resp.arrayBuffer()).to_py())",
      "metadata": {
        "trusted": true
      },
      "execution_count": 5,
      "outputs": []
    },
    {
      "cell_type": "markdown",
      "source": "Read in the csv file from the URL using the request library\n",
      "metadata": {}
    },
    {
      "cell_type": "code",
      "source": "ratings_df = pd.read_csv(ratings_url)\nratings_df",
      "metadata": {
        "trusted": true
      },
      "execution_count": 6,
      "outputs": [
        {
          "execution_count": 6,
          "output_type": "execute_result",
          "data": {
            "text/plain": "    minority  age  gender credits    beauty  eval division native tenure  \\\n0        yes   36  female    more  0.289916   4.3    upper    yes    yes   \n1        yes   36  female    more  0.289916   3.7    upper    yes    yes   \n2        yes   36  female    more  0.289916   3.6    upper    yes    yes   \n3        yes   36  female    more  0.289916   4.4    upper    yes    yes   \n4         no   59    male    more -0.737732   4.5    upper    yes    yes   \n..       ...  ...     ...     ...       ...   ...      ...    ...    ...   \n458       no   37    male    more  0.933396   3.5    upper    yes    yes   \n459       no   58  female    more  0.111563   3.5    upper    yes    yes   \n460       no   42    male    more -0.900580   4.0    upper    yes    yes   \n461       no   39    male    more  0.643014   4.3    upper    yes    yes   \n462       no   51  female    more  0.391822   3.0    upper    yes    yes   \n\n     students  allstudents  prof  PrimaryLast  vismin  female  single_credit  \\\n0          24           43     1            0       1       1              0   \n1          86          125     1            0       1       1              0   \n2          76          125     1            0       1       1              0   \n3          77          123     1            1       1       1              0   \n4          17           20     2            0       0       0              0   \n..        ...          ...   ...          ...     ...     ...            ...   \n458        15           17    40            1       0       0              0   \n459        26           34    47            1       0       1              0   \n460        45           86    61            1       0       0              0   \n461        22           29    62            1       0       0              0   \n462        47           67    69            1       0       1              0   \n\n     upper_division  English_speaker  tenured_prof  \n0                 1                1             1  \n1                 1                1             1  \n2                 1                1             1  \n3                 1                1             1  \n4                 1                1             1  \n..              ...              ...           ...  \n458               1                1             1  \n459               1                1             1  \n460               1                1             1  \n461               1                1             1  \n462               1                1             1  \n\n[463 rows x 19 columns]",
            "text/html": "<div>\n<style scoped>\n    .dataframe tbody tr th:only-of-type {\n        vertical-align: middle;\n    }\n\n    .dataframe tbody tr th {\n        vertical-align: top;\n    }\n\n    .dataframe thead th {\n        text-align: right;\n    }\n</style>\n<table border=\"1\" class=\"dataframe\">\n  <thead>\n    <tr style=\"text-align: right;\">\n      <th></th>\n      <th>minority</th>\n      <th>age</th>\n      <th>gender</th>\n      <th>credits</th>\n      <th>beauty</th>\n      <th>eval</th>\n      <th>division</th>\n      <th>native</th>\n      <th>tenure</th>\n      <th>students</th>\n      <th>allstudents</th>\n      <th>prof</th>\n      <th>PrimaryLast</th>\n      <th>vismin</th>\n      <th>female</th>\n      <th>single_credit</th>\n      <th>upper_division</th>\n      <th>English_speaker</th>\n      <th>tenured_prof</th>\n    </tr>\n  </thead>\n  <tbody>\n    <tr>\n      <th>0</th>\n      <td>yes</td>\n      <td>36</td>\n      <td>female</td>\n      <td>more</td>\n      <td>0.289916</td>\n      <td>4.3</td>\n      <td>upper</td>\n      <td>yes</td>\n      <td>yes</td>\n      <td>24</td>\n      <td>43</td>\n      <td>1</td>\n      <td>0</td>\n      <td>1</td>\n      <td>1</td>\n      <td>0</td>\n      <td>1</td>\n      <td>1</td>\n      <td>1</td>\n    </tr>\n    <tr>\n      <th>1</th>\n      <td>yes</td>\n      <td>36</td>\n      <td>female</td>\n      <td>more</td>\n      <td>0.289916</td>\n      <td>3.7</td>\n      <td>upper</td>\n      <td>yes</td>\n      <td>yes</td>\n      <td>86</td>\n      <td>125</td>\n      <td>1</td>\n      <td>0</td>\n      <td>1</td>\n      <td>1</td>\n      <td>0</td>\n      <td>1</td>\n      <td>1</td>\n      <td>1</td>\n    </tr>\n    <tr>\n      <th>2</th>\n      <td>yes</td>\n      <td>36</td>\n      <td>female</td>\n      <td>more</td>\n      <td>0.289916</td>\n      <td>3.6</td>\n      <td>upper</td>\n      <td>yes</td>\n      <td>yes</td>\n      <td>76</td>\n      <td>125</td>\n      <td>1</td>\n      <td>0</td>\n      <td>1</td>\n      <td>1</td>\n      <td>0</td>\n      <td>1</td>\n      <td>1</td>\n      <td>1</td>\n    </tr>\n    <tr>\n      <th>3</th>\n      <td>yes</td>\n      <td>36</td>\n      <td>female</td>\n      <td>more</td>\n      <td>0.289916</td>\n      <td>4.4</td>\n      <td>upper</td>\n      <td>yes</td>\n      <td>yes</td>\n      <td>77</td>\n      <td>123</td>\n      <td>1</td>\n      <td>1</td>\n      <td>1</td>\n      <td>1</td>\n      <td>0</td>\n      <td>1</td>\n      <td>1</td>\n      <td>1</td>\n    </tr>\n    <tr>\n      <th>4</th>\n      <td>no</td>\n      <td>59</td>\n      <td>male</td>\n      <td>more</td>\n      <td>-0.737732</td>\n      <td>4.5</td>\n      <td>upper</td>\n      <td>yes</td>\n      <td>yes</td>\n      <td>17</td>\n      <td>20</td>\n      <td>2</td>\n      <td>0</td>\n      <td>0</td>\n      <td>0</td>\n      <td>0</td>\n      <td>1</td>\n      <td>1</td>\n      <td>1</td>\n    </tr>\n    <tr>\n      <th>...</th>\n      <td>...</td>\n      <td>...</td>\n      <td>...</td>\n      <td>...</td>\n      <td>...</td>\n      <td>...</td>\n      <td>...</td>\n      <td>...</td>\n      <td>...</td>\n      <td>...</td>\n      <td>...</td>\n      <td>...</td>\n      <td>...</td>\n      <td>...</td>\n      <td>...</td>\n      <td>...</td>\n      <td>...</td>\n      <td>...</td>\n      <td>...</td>\n    </tr>\n    <tr>\n      <th>458</th>\n      <td>no</td>\n      <td>37</td>\n      <td>male</td>\n      <td>more</td>\n      <td>0.933396</td>\n      <td>3.5</td>\n      <td>upper</td>\n      <td>yes</td>\n      <td>yes</td>\n      <td>15</td>\n      <td>17</td>\n      <td>40</td>\n      <td>1</td>\n      <td>0</td>\n      <td>0</td>\n      <td>0</td>\n      <td>1</td>\n      <td>1</td>\n      <td>1</td>\n    </tr>\n    <tr>\n      <th>459</th>\n      <td>no</td>\n      <td>58</td>\n      <td>female</td>\n      <td>more</td>\n      <td>0.111563</td>\n      <td>3.5</td>\n      <td>upper</td>\n      <td>yes</td>\n      <td>yes</td>\n      <td>26</td>\n      <td>34</td>\n      <td>47</td>\n      <td>1</td>\n      <td>0</td>\n      <td>1</td>\n      <td>0</td>\n      <td>1</td>\n      <td>1</td>\n      <td>1</td>\n    </tr>\n    <tr>\n      <th>460</th>\n      <td>no</td>\n      <td>42</td>\n      <td>male</td>\n      <td>more</td>\n      <td>-0.900580</td>\n      <td>4.0</td>\n      <td>upper</td>\n      <td>yes</td>\n      <td>yes</td>\n      <td>45</td>\n      <td>86</td>\n      <td>61</td>\n      <td>1</td>\n      <td>0</td>\n      <td>0</td>\n      <td>0</td>\n      <td>1</td>\n      <td>1</td>\n      <td>1</td>\n    </tr>\n    <tr>\n      <th>461</th>\n      <td>no</td>\n      <td>39</td>\n      <td>male</td>\n      <td>more</td>\n      <td>0.643014</td>\n      <td>4.3</td>\n      <td>upper</td>\n      <td>yes</td>\n      <td>yes</td>\n      <td>22</td>\n      <td>29</td>\n      <td>62</td>\n      <td>1</td>\n      <td>0</td>\n      <td>0</td>\n      <td>0</td>\n      <td>1</td>\n      <td>1</td>\n      <td>1</td>\n    </tr>\n    <tr>\n      <th>462</th>\n      <td>no</td>\n      <td>51</td>\n      <td>female</td>\n      <td>more</td>\n      <td>0.391822</td>\n      <td>3.0</td>\n      <td>upper</td>\n      <td>yes</td>\n      <td>yes</td>\n      <td>47</td>\n      <td>67</td>\n      <td>69</td>\n      <td>1</td>\n      <td>0</td>\n      <td>1</td>\n      <td>0</td>\n      <td>1</td>\n      <td>1</td>\n      <td>1</td>\n    </tr>\n  </tbody>\n</table>\n<p>463 rows × 19 columns</p>\n</div>"
          },
          "metadata": {}
        }
      ]
    },
    {
      "cell_type": "markdown",
      "source": "## Lab Exercises\n",
      "metadata": {}
    },
    {
      "cell_type": "markdown",
      "source": "### T-Test: Using the teachers' rating data set, does gender affect teaching evaluation rates?\n",
      "metadata": {}
    },
    {
      "cell_type": "markdown",
      "source": "We will be using the t-test for independent samples. For the independent t-test, the following assumptions must be met.\n\n*   One independent, categorical variable with two levels or group\n*   One dependent continuous variable\n*   Independence of the observations. Each subject should belong to only one group. There is no relationship between the observations in each group.\n*   The dependent variable must follow a normal distribution\n*   Assumption of homogeneity of variance\n",
      "metadata": {}
    },
    {
      "cell_type": "markdown",
      "source": "State the hypothesis\n\n*   $H\\_0: µ\\_1 = µ\\_2$ (\"there is no difference in evaluation scores between male and females\")\n*   $H\\_1: µ\\_1 ≠ µ\\_2$ (\"there is a difference in evaluation scores between male and females\")\n",
      "metadata": {}
    },
    {
      "cell_type": "markdown",
      "source": "We can plot the dependent variable with a historgram\n",
      "metadata": {}
    },
    {
      "cell_type": "code",
      "source": "ax = sns.distplot(ratings_df['eval'],\n                  bins=20,\n                  kde=True,\n                  color='grey',\n                  hist_kws={\"linewidth\": 15,'alpha':1})\nax.set(xlabel='Normal Distribution', ylabel='Frequency')\n## we can assume it is normal",
      "metadata": {
        "trusted": true
      },
      "execution_count": 7,
      "outputs": [
        {
          "name": "stderr",
          "text": "<ipython-input-7-54a3abdc41a8>:1: UserWarning: \n\n`distplot` is a deprecated function and will be removed in seaborn v0.14.0.\n\nPlease adapt your code to use either `displot` (a figure-level function with\nsimilar flexibility) or `histplot` (an axes-level function for histograms).\n\nFor a guide to updating your code to use the new functions, please see\nhttps://gist.github.com/mwaskom/de44147ed2974457ad6372750bbe5751\n\n  ax = sns.distplot(ratings_df['eval'],\n",
          "output_type": "stream"
        },
        {
          "execution_count": 7,
          "output_type": "execute_result",
          "data": {
            "text/plain": "[Text(0.5, 0, 'Normal Distribution'), Text(0, 0.5, 'Frequency')]"
          },
          "metadata": {}
        },
        {
          "output_type": "display_data",
          "data": {
            "text/plain": "<Figure size 640x480 with 1 Axes>",
            "image/png": "[encoded data removed]"
          },
          "metadata": {}
        }
      ]
    },
    {
      "cell_type": "markdown",
      "source": "We can use the Levene's Test in Python to check test significance\n",
      "metadata": {}
    },
    {
      "cell_type": "code",
      "source": "scipy.stats.levene(ratings_df[ratings_df['gender'] == 'female']['eval'],\n                   ratings_df[ratings_df['gender'] == 'male']['eval'], center='mean')\n\n# since the p-value is greater than 0.05 we can assume equality of variance",
      "metadata": {
        "trusted": true
      },
      "execution_count": 8,
      "outputs": [
        {
          "execution_count": 8,
          "output_type": "execute_result",
          "data": {
            "text/plain": "LeveneResult(statistic=0.19032922435292574, pvalue=0.6628469836244741)"
          },
          "metadata": {}
        }
      ]
    },
    {
      "cell_type": "markdown",
      "source": "Use the <code>ttest_ind</code> from the <code>scipy_stats</code> library\n",
      "metadata": {}
    },
    {
      "cell_type": "code",
      "source": "scipy.stats.ttest_ind(ratings_df[ratings_df['gender'] == 'female']['eval'],\n                   ratings_df[ratings_df['gender'] == 'male']['eval'], equal_var = True)",
      "metadata": {
        "trusted": true
      },
      "execution_count": 9,
      "outputs": [
        {
          "execution_count": 9,
          "output_type": "execute_result",
          "data": {
            "text/plain": "Ttest_indResult(statistic=-3.249937943510772, pvalue=0.0012387609449522217)"
          },
          "metadata": {}
        }
      ]
    },
    {
      "cell_type": "markdown",
      "source": "**Conclusion:** Since the p-value is less than alpha value 0.05, we reject the null hypothesis as there is enough proof that there is a statistical difference in teaching evaluations based on gender\n",
      "metadata": {}
    },
    {
      "cell_type": "markdown",
      "source": "### ANOVA: Using the teachers' rating data set, does beauty  score for instructors  differ by age?\n",
      "metadata": {}
    },
    {
      "cell_type": "markdown",
      "source": "First, we group the data into cateries as the one-way ANOVA can't work with continuous variable - using the example from the video, we will create a new column for this newly assigned group our categories will be teachers that are:\n\n*   40 years and younger\n*   between 40 and 57 years\n*   57 years and older\n",
      "metadata": {}
    },
    {
      "cell_type": "code",
      "source": "ratings_df.loc[(ratings_df['age'] <= 40), 'age_group'] = '40 years and younger'\nratings_df.loc[(ratings_df['age'] > 40)&(ratings_df['age'] < 57), 'age_group'] = 'between 40 and 57 years'\nratings_df.loc[(ratings_df['age'] >= 57), 'age_group'] = '57 years and older'\nratings_df",
      "metadata": {
        "trusted": true
      },
      "execution_count": 12,
      "outputs": [
        {
          "execution_count": 12,
          "output_type": "execute_result",
          "data": {
            "text/plain": "    minority  age  gender credits    beauty  eval division native tenure  \\\n0        yes   36  female    more  0.289916   4.3    upper    yes    yes   \n1        yes   36  female    more  0.289916   3.7    upper    yes    yes   \n2        yes   36  female    more  0.289916   3.6    upper    yes    yes   \n3        yes   36  female    more  0.289916   4.4    upper    yes    yes   \n4         no   59    male    more -0.737732   4.5    upper    yes    yes   \n..       ...  ...     ...     ...       ...   ...      ...    ...    ...   \n458       no   37    male    more  0.933396   3.5    upper    yes    yes   \n459       no   58  female    more  0.111563   3.5    upper    yes    yes   \n460       no   42    male    more -0.900580   4.0    upper    yes    yes   \n461       no   39    male    more  0.643014   4.3    upper    yes    yes   \n462       no   51  female    more  0.391822   3.0    upper    yes    yes   \n\n     students  allstudents  prof  PrimaryLast  vismin  female  single_credit  \\\n0          24           43     1            0       1       1              0   \n1          86          125     1            0       1       1              0   \n2          76          125     1            0       1       1              0   \n3          77          123     1            1       1       1              0   \n4          17           20     2            0       0       0              0   \n..        ...          ...   ...          ...     ...     ...            ...   \n458        15           17    40            1       0       0              0   \n459        26           34    47            1       0       1              0   \n460        45           86    61            1       0       0              0   \n461        22           29    62            1       0       0              0   \n462        47           67    69            1       0       1              0   \n\n     upper_division  English_speaker  tenured_prof                age_group  \n0                 1                1             1     40 years and younger  \n1                 1                1             1     40 years and younger  \n2                 1                1             1     40 years and younger  \n3                 1                1             1     40 years and younger  \n4                 1                1             1       57 years and older  \n..              ...              ...           ...                      ...  \n458               1                1             1     40 years and younger  \n459               1                1             1       57 years and older  \n460               1                1             1  between 40 and 57 years  \n461               1                1             1     40 years and younger  \n462               1                1             1  between 40 and 57 years  \n\n[463 rows x 20 columns]",
            "text/html": "<div>\n<style scoped>\n    .dataframe tbody tr th:only-of-type {\n        vertical-align: middle;\n    }\n\n    .dataframe tbody tr th {\n        vertical-align: top;\n    }\n\n    .dataframe thead th {\n        text-align: right;\n    }\n</style>\n<table border=\"1\" class=\"dataframe\">\n  <thead>\n    <tr style=\"text-align: right;\">\n      <th></th>\n      <th>minority</th>\n      <th>age</th>\n      <th>gender</th>\n      <th>credits</th>\n      <th>beauty</th>\n      <th>eval</th>\n      <th>division</th>\n      <th>native</th>\n      <th>tenure</th>\n      <th>students</th>\n      <th>allstudents</th>\n      <th>prof</th>\n      <th>PrimaryLast</th>\n      <th>vismin</th>\n      <th>female</th>\n      <th>single_credit</th>\n      <th>upper_division</th>\n      <th>English_speaker</th>\n      <th>tenured_prof</th>\n      <th>age_group</th>\n    </tr>\n  </thead>\n  <tbody>\n    <tr>\n      <th>0</th>\n      <td>yes</td>\n      <td>36</td>\n      <td>female</td>\n      <td>more</td>\n      <td>0.289916</td>\n      <td>4.3</td>\n      <td>upper</td>\n      <td>yes</td>\n      <td>yes</td>\n      <td>24</td>\n      <td>43</td>\n      <td>1</td>\n      <td>0</td>\n      <td>1</td>\n      <td>1</td>\n      <td>0</td>\n      <td>1</td>\n      <td>1</td>\n      <td>1</td>\n      <td>40 years and younger</td>\n    </tr>\n    <tr>\n      <th>1</th>\n      <td>yes</td>\n      <td>36</td>\n      <td>female</td>\n      <td>more</td>\n      <td>0.289916</td>\n      <td>3.7</td>\n      <td>upper</td>\n      <td>yes</td>\n      <td>yes</td>\n      <td>86</td>\n      <td>125</td>\n      <td>1</td>\n      <td>0</td>\n      <td>1</td>\n      <td>1</td>\n      <td>0</td>\n      <td>1</td>\n      <td>1</td>\n      <td>1</td>\n      <td>40 years and younger</td>\n    </tr>\n    <tr>\n      <th>2</th>\n      <td>yes</td>\n      <td>36</td>\n      <td>female</td>\n      <td>more</td>\n      <td>0.289916</td>\n      <td>3.6</td>\n      <td>upper</td>\n      <td>yes</td>\n      <td>yes</td>\n      <td>76</td>\n      <td>125</td>\n      <td>1</td>\n      <td>0</td>\n      <td>1</td>\n      <td>1</td>\n      <td>0</td>\n      <td>1</td>\n      <td>1</td>\n      <td>1</td>\n      <td>40 years and younger</td>\n    </tr>\n    <tr>\n      <th>3</th>\n      <td>yes</td>\n      <td>36</td>\n      <td>female</td>\n      <td>more</td>\n      <td>0.289916</td>\n      <td>4.4</td>\n      <td>upper</td>\n      <td>yes</td>\n      <td>yes</td>\n      <td>77</td>\n      <td>123</td>\n      <td>1</td>\n      <td>1</td>\n      <td>1</td>\n      <td>1</td>\n      <td>0</td>\n      <td>1</td>\n      <td>1</td>\n      <td>1</td>\n      <td>40 years and younger</td>\n    </tr>\n    <tr>\n      <th>4</th>\n      <td>no</td>\n      <td>59</td>\n      <td>male</td>\n      <td>more</td>\n      <td>-0.737732</td>\n      <td>4.5</td>\n      <td>upper</td>\n      <td>yes</td>\n      <td>yes</td>\n      <td>17</td>\n      <td>20</td>\n      <td>2</td>\n      <td>0</td>\n      <td>0</td>\n      <td>0</td>\n      <td>0</td>\n      <td>1</td>\n      <td>1</td>\n      <td>1</td>\n      <td>57 years and older</td>\n    </tr>\n    <tr>\n      <th>...</th>\n      <td>...</td>\n      <td>...</td>\n      <td>...</td>\n      <td>...</td>\n      <td>...</td>\n      <td>...</td>\n      <td>...</td>\n      <td>...</td>\n      <td>...</td>\n      <td>...</td>\n      <td>...</td>\n      <td>...</td>\n      <td>...</td>\n      <td>...</td>\n      <td>...</td>\n      <td>...</td>\n      <td>...</td>\n      <td>...</td>\n      <td>...</td>\n      <td>...</td>\n    </tr>\n    <tr>\n      <th>458</th>\n      <td>no</td>\n      <td>37</td>\n      <td>male</td>\n      <td>more</td>\n      <td>0.933396</td>\n      <td>3.5</td>\n      <td>upper</td>\n      <td>yes</td>\n      <td>yes</td>\n      <td>15</td>\n      <td>17</td>\n      <td>40</td>\n      <td>1</td>\n      <td>0</td>\n      <td>0</td>\n      <td>0</td>\n      <td>1</td>\n      <td>1</td>\n      <td>1</td>\n      <td>40 years and younger</td>\n    </tr>\n    <tr>\n      <th>459</th>\n      <td>no</td>\n      <td>58</td>\n      <td>female</td>\n      <td>more</td>\n      <td>0.111563</td>\n      <td>3.5</td>\n      <td>upper</td>\n      <td>yes</td>\n      <td>yes</td>\n      <td>26</td>\n      <td>34</td>\n      <td>47</td>\n      <td>1</td>\n      <td>0</td>\n      <td>1</td>\n      <td>0</td>\n      <td>1</td>\n      <td>1</td>\n      <td>1</td>\n      <td>57 years and older</td>\n    </tr>\n    <tr>\n      <th>460</th>\n      <td>no</td>\n      <td>42</td>\n      <td>male</td>\n      <td>more</td>\n      <td>-0.900580</td>\n      <td>4.0</td>\n      <td>upper</td>\n      <td>yes</td>\n      <td>yes</td>\n      <td>45</td>\n      <td>86</td>\n      <td>61</td>\n      <td>1</td>\n      <td>0</td>\n      <td>0</td>\n      <td>0</td>\n      <td>1</td>\n      <td>1</td>\n      <td>1</td>\n      <td>between 40 and 57 years</td>\n    </tr>\n    <tr>\n      <th>461</th>\n      <td>no</td>\n      <td>39</td>\n      <td>male</td>\n      <td>more</td>\n      <td>0.643014</td>\n      <td>4.3</td>\n      <td>upper</td>\n      <td>yes</td>\n      <td>yes</td>\n      <td>22</td>\n      <td>29</td>\n      <td>62</td>\n      <td>1</td>\n      <td>0</td>\n      <td>0</td>\n      <td>0</td>\n      <td>1</td>\n      <td>1</td>\n      <td>1</td>\n      <td>40 years and younger</td>\n    </tr>\n    <tr>\n      <th>462</th>\n      <td>no</td>\n      <td>51</td>\n      <td>female</td>\n      <td>more</td>\n      <td>0.391822</td>\n      <td>3.0</td>\n      <td>upper</td>\n      <td>yes</td>\n      <td>yes</td>\n      <td>47</td>\n      <td>67</td>\n      <td>69</td>\n      <td>1</td>\n      <td>0</td>\n      <td>1</td>\n      <td>0</td>\n      <td>1</td>\n      <td>1</td>\n      <td>1</td>\n      <td>between 40 and 57 years</td>\n    </tr>\n  </tbody>\n</table>\n<p>463 rows × 20 columns</p>\n</div>"
          },
          "metadata": {}
        }
      ]
    },
    {
      "cell_type": "markdown",
      "source": "State the hypothesis\n\n*   $H\\_0: µ\\_1 = µ\\_2 = µ\\_3$ (the three population means are equal)\n*   $H\\_1:$ At least one of the means differ\n",
      "metadata": {}
    },
    {
      "cell_type": "markdown",
      "source": "Test for equality of variance\n",
      "metadata": {}
    },
    {
      "cell_type": "code",
      "source": "scipy.stats.levene(ratings_df[ratings_df['age_group'] == '40 years and younger']['beauty'],\n                   ratings_df[ratings_df['age_group'] == 'between 40 and 57 years']['beauty'], \n                   ratings_df[ratings_df['age_group'] == '57 years and older']['beauty'], \n                   center='mean')\n# since the p-value is less than 0.05, the variance are not equal, for the purposes of this exercise, we will move along",
      "metadata": {
        "trusted": true
      },
      "execution_count": 13,
      "outputs": [
        {
          "execution_count": 13,
          "output_type": "execute_result",
          "data": {
            "text/plain": "LeveneResult(statistic=8.60005668392584, pvalue=0.000215366180993476)"
          },
          "metadata": {}
        }
      ]
    },
    {
      "cell_type": "markdown",
      "source": "First, separate the three samples (one for each job category) into a variable each.\n",
      "metadata": {}
    },
    {
      "cell_type": "code",
      "source": "forty_lower = ratings_df[ratings_df['age_group'] == '40 years and younger']['beauty']\nforty_fiftyseven = ratings_df[ratings_df['age_group'] == 'between 40 and 57 years']['beauty']\nfiftyseven_older = ratings_df[ratings_df['age_group'] == '57 years and older']['beauty']",
      "metadata": {
        "trusted": true
      },
      "execution_count": 14,
      "outputs": []
    },
    {
      "cell_type": "markdown",
      "source": "Now, run a one-way ANOVA.\n",
      "metadata": {}
    },
    {
      "cell_type": "code",
      "source": "f_statistic, p_value = scipy.stats.f_oneway(forty_lower, forty_fiftyseven, fiftyseven_older)\nprint(\"F_Statistic: {0}, P-Value: {1}\".format(f_statistic,p_value))",
      "metadata": {
        "trusted": true
      },
      "execution_count": 15,
      "outputs": [
        {
          "name": "stdout",
          "text": "F_Statistic: 17.597558611010122, P-Value: 4.3225489816137975e-08\n",
          "output_type": "stream"
        }
      ]
    },
    {
      "cell_type": "markdown",
      "source": "**Conclusion:** Since the p-value is less than 0.05, we will reject the null hypothesis as there is significant evidence that at least one of the means differ.\n",
      "metadata": {}
    },
    {
      "cell_type": "markdown",
      "source": "### ANOVA: Using the teachers' rating data set, does teaching  evaluation  score for instructors  differ  by age?\n",
      "metadata": {}
    },
    {
      "cell_type": "markdown",
      "source": "Test for equality of variance\n",
      "metadata": {}
    },
    {
      "cell_type": "code",
      "source": "scipy.stats.levene(ratings_df[ratings_df['age_group'] == '40 years and younger']['eval'],\n                   ratings_df[ratings_df['age_group'] == 'between 40 and 57 years']['eval'], \n                   ratings_df[ratings_df['age_group'] == '57 years and older']['eval'], \n                   center='mean')\n",
      "metadata": {
        "trusted": true
      },
      "execution_count": 16,
      "outputs": [
        {
          "execution_count": 16,
          "output_type": "execute_result",
          "data": {
            "text/plain": "LeveneResult(statistic=3.820237661494229, pvalue=0.02262141852021939)"
          },
          "metadata": {}
        }
      ]
    },
    {
      "cell_type": "code",
      "source": "forty_lower_eval = ratings_df[ratings_df['age_group'] == '40 years and younger']['eval']\nforty_fiftyseven_eval = ratings_df[ratings_df['age_group'] == 'between 40 and 57 years']['eval']\nfiftyseven_older_eval = ratings_df[ratings_df['age_group'] == '57 years and older']['eval']",
      "metadata": {
        "trusted": true
      },
      "execution_count": 17,
      "outputs": []
    },
    {
      "cell_type": "code",
      "source": "f_statistic, p_value = scipy.stats.f_oneway(forty_lower_eval, forty_fiftyseven_eval, fiftyseven_older_eval)\nprint(\"F_Statistic: {0}, P-Value: {1}\".format(f_statistic,p_value))",
      "metadata": {
        "trusted": true
      },
      "execution_count": 18,
      "outputs": [
        {
          "name": "stdout",
          "text": "F_Statistic: 1.2226327996572206, P-Value: 0.29540894225417536\n",
          "output_type": "stream"
        }
      ]
    },
    {
      "cell_type": "markdown",
      "source": "**Conclusion:** Since the p-value is greater than 0.05, we will fail to reject the null hypothesis as there is no significant evidence that at least one of the means differ.\n",
      "metadata": {}
    },
    {
      "cell_type": "markdown",
      "source": "### Chi-square: Using the teachers' rating data set, is there an association between tenure and gender?\n",
      "metadata": {}
    },
    {
      "cell_type": "markdown",
      "source": "State the hypothesis:\n\n*   $H\\_0:$ The proportion of teachers who are tenured is independent of gender\n*   $H\\_1:$ The proportion of teachers who are tenured is associated with gender\n",
      "metadata": {}
    },
    {
      "cell_type": "markdown",
      "source": "Create a Cross-tab table\n",
      "metadata": {}
    },
    {
      "cell_type": "code",
      "source": "cont_table  = pd.crosstab(ratings_df['tenure'], ratings_df['gender'])\ncont_table",
      "metadata": {
        "trusted": true
      },
      "execution_count": 19,
      "outputs": [
        {
          "execution_count": 19,
          "output_type": "execute_result",
          "data": {
            "text/plain": "gender  female  male\ntenure              \nno          50    52\nyes        145   216",
            "text/html": "<div>\n<style scoped>\n    .dataframe tbody tr th:only-of-type {\n        vertical-align: middle;\n    }\n\n    .dataframe tbody tr th {\n        vertical-align: top;\n    }\n\n    .dataframe thead th {\n        text-align: right;\n    }\n</style>\n<table border=\"1\" class=\"dataframe\">\n  <thead>\n    <tr style=\"text-align: right;\">\n      <th>gender</th>\n      <th>female</th>\n      <th>male</th>\n    </tr>\n    <tr>\n      <th>tenure</th>\n      <th></th>\n      <th></th>\n    </tr>\n  </thead>\n  <tbody>\n    <tr>\n      <th>no</th>\n      <td>50</td>\n      <td>52</td>\n    </tr>\n    <tr>\n      <th>yes</th>\n      <td>145</td>\n      <td>216</td>\n    </tr>\n  </tbody>\n</table>\n</div>"
          },
          "metadata": {}
        }
      ]
    },
    {
      "cell_type": "markdown",
      "source": "Use the <code>scipy.stats</code> library and set correction equals False as that will be the same answer when done by hand, it returns: 𝜒2 value, p-value, degree of freedom, and expected values.\n",
      "metadata": {}
    },
    {
      "cell_type": "code",
      "source": "scipy.stats.chi2_contingency(cont_table, correction = False)",
      "metadata": {
        "trusted": true
      },
      "execution_count": 20,
      "outputs": [
        {
          "execution_count": 20,
          "output_type": "execute_result",
          "data": {
            "text/plain": "(2.557051129789522,\n 0.10980322511302845,\n 1,\n array([[ 42.95896328,  59.04103672],\n        [152.04103672, 208.95896328]]))"
          },
          "metadata": {}
        }
      ]
    },
    {
      "cell_type": "markdown",
      "source": "**Conclusion:** Since the p-value is greater than 0.05, we fail to reject the null hypothesis. As there is no sufficient evidence that teachers are tenured as a result of gender.\n",
      "metadata": {}
    },
    {
      "cell_type": "markdown",
      "source": "### Correlation: Using the teachers rating dataset, Is teaching  evaluation  score correlated with  beauty score?\n",
      "metadata": {}
    },
    {
      "cell_type": "markdown",
      "source": "State the hypothesis:\n\n*   $H\\_0:$ Teaching evaluation score is not correlated with beauty score\n*   $H\\_1:$ Teaching evaluation score is correlated with beauty score\n",
      "metadata": {}
    },
    {
      "cell_type": "markdown",
      "source": "Since they are both continuous variables we can use a pearson correlation test and draw a scatter plot\n",
      "metadata": {}
    },
    {
      "cell_type": "code",
      "source": "ax = sns.scatterplot(x=\"beauty\", y=\"eval\", data=ratings_df)",
      "metadata": {
        "trusted": true
      },
      "execution_count": 21,
      "outputs": [
        {
          "output_type": "display_data",
          "data": {
            "text/plain": "<Figure size 640x480 with 1 Axes>",
            "image/png": "[encoded data removed]"
          },
          "metadata": {}
        }
      ]
    },
    {
      "cell_type": "code",
      "source": "scipy.stats.pearsonr(ratings_df['beauty'], ratings_df['eval'])",
      "metadata": {
        "trusted": true
      },
      "execution_count": 22,
      "outputs": [
        {
          "execution_count": 22,
          "output_type": "execute_result",
          "data": {
            "text/plain": "PearsonRResult(statistic=0.18903909084045223, pvalue=4.2471154198124776e-05)"
          },
          "metadata": {}
        }
      ]
    },
    {
      "cell_type": "markdown",
      "source": "**Conclusion:** Since the p-value  (Sig. (2-tailed)  < 0.05, we reject  the Null hypothesis and conclude that there  exists a relationship between  beauty and teaching evaluation score.\n",
      "metadata": {}
    },
    {
      "cell_type": "markdown",
      "source": "## Practice Questions\n",
      "metadata": {}
    },
    {
      "cell_type": "markdown",
      "source": "### Question 1: Using the teachers rating data set, does tenure affect teaching evaluation scores?\n\n*   Use α = 0.05\n",
      "metadata": {}
    },
    {
      "cell_type": "code",
      "source": "## insert code here\n# t test\n#H0: u1=u2 (no difference) /  H1: u1=!u2 (There is a difference)\n\n#Levene's test: test variance\naa = scipy.stats.levene(ratings_df[ratings_df['tenure']=='yes']['eval'],\n                   ratings_df[ratings_df['tenure']=='no']['eval'], center='mean')\nprint(aa,'-> variances are equal')\n\n\n# t test\nbb = scipy.stats.ttest_ind(ratings_df[ratings_df['tenure']=='yes']['eval'],\n                   ratings_df[ratings_df['tenure']=='no']['eval'], equal_var = True)\nprint(bb,'Reject H0: There is a difference between tenure and not tenure, which tenure do affect the teaching evaluation scores')\n\n#ratings_df",
      "metadata": {
        "trusted": true
      },
      "execution_count": 31,
      "outputs": [
        {
          "name": "stdout",
          "text": "LeveneResult(statistic=0.44389295824627134, pvalue=0.5055827160360271) -> variances are equal\nTtest_indResult(statistic=-2.8046798258451777, pvalue=0.005249471210198792) Reject H0: There is a difference between tenure and not tenure, which tenure do affect the teaching evaluation scores\n",
          "output_type": "stream"
        }
      ]
    },
    {
      "cell_type": "markdown",
      "source": "Double-click **here** for the solution.\n\n<!-- The answer is below:\nscipy.stats.ttest_ind(ratings_df[ratings_df['tenure'] == 'yes']['eval'],\n                   ratings_df[ratings_df['tenure'] == 'no']['eval'], equal_var = True)\nThe p-value is less than 0.05 that means that - we will reject the null hypothesis as there evidence that being tenured affects teaching evaluation scores\n-->\n",
      "metadata": {}
    },
    {
      "cell_type": "markdown",
      "source": "### Question 2: Using the teachers rating data set, is there an association between age and tenure?\n\n*   Discretize the age into three groups 40 years and youngers, between 40 and 57 years, 57 years and older (This has already been done for you above.)\n*   What is your conclusion at α = 0.01 and α = 0.05?\n",
      "metadata": {}
    },
    {
      "cell_type": "code",
      "source": "## insert code here\n#H0: Independent(No association) H1:Associated\n#Chi square test\n\nratings_df.loc[(ratings_df['age'] <= 40), 'age_group'] = '40 years and youngers'\nratings_df.loc[(ratings_df['age'] > 40) & (ratings_df['age'] < 57), 'age_group'] = 'between 40 and 57 years'\nratings_df.loc[(ratings_df['age'] >= 57), 'age_group'] = '57 years and older'\nratings_df\n\ncont_table = pd.crosstab(ratings_df['age_group'],ratings_df['tenure'])\nprint(cont_table)\n\naa = scipy.stats.chi2_contingency(cont_table, correction = True)\nprint(aa, 'p-value: 0.01259')\n\nprint('When α = 0.01, p-value > α -> Do not reject H0: There are no association between age and tenure')\nprint('When α = 0.05, p-value < α -> Rejected H0: There are association between age and tenure')",
      "metadata": {
        "trusted": true
      },
      "execution_count": 23,
      "outputs": [
        {
          "name": "stdout",
          "text": "tenure                   no  yes\nage_group                       \n40 years and youngers    15   98\n57 years and older       25   97\nbetween 40 and 57 years  62  166\n(8.749576239010711, 0.012590809706820843, 2, array([[ 24.89416847,  88.10583153],\n       [ 26.87688985,  95.12311015],\n       [ 50.22894168, 177.77105832]])) p-value: 0.01259\nWhen α = 0.01, p-value > α -> Do not reject H0: There are no association between age and tenure\nWhen α = 0.05, p-value < α -> Rejected H0: There are association between age and tenure\n",
          "output_type": "stream"
        }
      ]
    },
    {
      "cell_type": "markdown",
      "source": "Double-click **here** for a hint.\n\n<!-- The hint is below:\n## state your hypothesis\nNull Hypothesis: There is no association between age and tenure\nAlternative Hypothesis: There is an association between age and tenure\n\n## don't forget to create a cross tab of the data\ncont_table  = pd.crosstab(ratings_df['tenure'], ratings_df['age_group'])\n-->\n",
      "metadata": {}
    },
    {
      "cell_type": "markdown",
      "source": "Double-click **here** for the solution.\n\n<!-- The answer is below:\n## use the chi-square function\nscipy.stats.chi2_contingency(cont_table, correction = True)\nAt the α = 0.01, p-value is greater, we fail to reject null hypothesis as there is no evidence of an association between age and tenure\nAt the α = 0.05, p-value is less, we reject null hypoothesis as there is evidence of an association between age and tenure\n-->\n",
      "metadata": {}
    },
    {
      "cell_type": "markdown",
      "source": "### Question 3: Test for equality of variance for beauty scores between tenured and non-tenured instructors\n\n*   Use α = 0.05\n",
      "metadata": {}
    },
    {
      "cell_type": "code",
      "source": "#ratings_df",
      "metadata": {
        "trusted": true
      },
      "execution_count": 28,
      "outputs": []
    },
    {
      "cell_type": "code",
      "source": "## insert code here\n#H0: equality of variance (v1=v2) H1: Not equal (v1 =! v2)\n#levene's test \n\nkk = scipy.stats.levene(ratings_df[ratings_df['tenure']=='yes']['beauty'],\n                   ratings_df[ratings_df['tenure']=='no']['beauty'], center='mean')\nprint(kk)\nprint('Do not reject H0 -> The variance for beauty scores between tenured and non-tenured instructors are equal')",
      "metadata": {
        "trusted": true
      },
      "execution_count": 29,
      "outputs": [
        {
          "name": "stdout",
          "text": "LeveneResult(statistic=0.4884241652750426, pvalue=0.4849835158609811)\nDo not reject H0 -> The variance for beauty scores between tenured and non-tenured instructors are equal\n",
          "output_type": "stream"
        }
      ]
    },
    {
      "cell_type": "markdown",
      "source": "Double-click **here** for the solution.\n\n<!-- The answer is below:\n### use the levene function to find the p-value and conclusion\nscipy.stats.levene(ratings_df[ratings_df['tenure'] == 'yes']['beauty'],\n                   ratings_df[ratings_df['tenure'] == 'no']['beauty'], \n                   center='mean')\nSince the p-value is greater than 0.05, we will assume equality of variance of both groups\n-->\n",
      "metadata": {}
    },
    {
      "cell_type": "markdown",
      "source": "### Question 4: Using the teachers rating data set, is there an association between visible minorities and tenure?\n\n*   Use α = 0.05\n",
      "metadata": {}
    },
    {
      "cell_type": "code",
      "source": "## insert code here\n#H0: no association H1: Associated\n#Chi-square test\n#ratings_df\n\ncont_table = pd.crosstab(ratings_df['minority'],ratings_df['tenure'])\nprint(cont_table)\n\nkk = scipy.stats.chi2_contingency(cont_table)\nprint(kk)\nprint('p-value:', kk[1])\nprint('Do not reject H0 -> There is no association between visible minorities and tenure ')",
      "metadata": {
        "trusted": true
      },
      "execution_count": 35,
      "outputs": [
        {
          "name": "stdout",
          "text": "tenure    no  yes\nminority         \nno        92  307\nyes       10   54\n(1.3675127484429763, 0.24223968800237178, 1, array([[ 87.90064795, 311.09935205],\n       [ 14.09935205,  49.90064795]]))\np-value: 0.24223968800237178\nDo not reject H0 -> There is no association between visible minorities and tenure \n",
          "output_type": "stream"
        }
      ]
    },
    {
      "cell_type": "markdown",
      "source": "Double-click **here** for a hint.\n\n<!-- The hint is below:\n##State you hypothesis and Create a cross-tab:\nNull Hypothesis: There is no association between visible minorities and tenure\nAlternative Hypothesis: There is an association between visible minorities and tenure\n\ncont_table  = pd.crosstab(ratings_df['vismin'], ratings_df['tenure'])\n-->\n",
      "metadata": {}
    },
    {
      "cell_type": "markdown",
      "source": "Double-click **here** for the solution.\n\n<!-- The answer is below:\n## run the chi2_contingency() on the contigency table\nscipy.stats.chi2_contingency(cont_table, correction = True)\nSince the p-value is greater than 0.05, we fail to reject null hypothesis as there is no evidence of an association between visible minorities and tenure\n-->\n",
      "metadata": {}
    },
    {
      "cell_type": "markdown",
      "source": "## Authors\n\n[Pratiksha Verma](https://www.linkedin.com/in/pratiksha-verma-6487561b1/?utm_medium=Exinfluencer&utm_source=Exinfluencer&utm_content=000026UJ&utm_term=10006555&utm_id=NA-SkillsNetwork-Channel-SkillsNetworkCoursesIBMDeveloperSkillsNetworkST0151ENSkillsNetwork956-2023-01-01)\n\n## Change Log\n\n| Date (YYYY-MM-DD) | Version | Changed By      | Change Description      |\n| ----------------- | ------- | -------------   | ----------------------- |\n| 2022-11-09        | 1.0     | Pratiksha Verma | Converted initial version to Jupyterlite|\n\n\n<hr>\n\n## <h3 align=\"center\"> IBM Corporation 2022. All rights reserved. <h3/>\n",
      "metadata": {}
    }
  ]
}