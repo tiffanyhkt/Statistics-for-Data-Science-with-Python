{
  "metadata": {
    "language_info": {
      "codemirror_mode": {
        "name": "python",
        "version": 3
      },
      "file_extension": ".py",
      "mimetype": "text/x-python",
      "name": "python",
      "nbconvert_exporter": "python",
      "pygments_lexer": "ipython3",
      "version": "3.8"
    },
    "kernelspec": {
      "name": "python",
      "display_name": "Python (Pyodide)",
      "language": "python"
    }
  },
  "nbformat_minor": 4,
  "nbformat": 4,
  "cells": [
    {
      "cell_type": "markdown",
      "source": "<p style=\"text-align:center\">\n    <a href=\"https://skills.network/?utm_medium=Exinfluencer&utm_source=Exinfluencer&utm_content=000026UJ&utm_term=10006555&utm_id=NA-SkillsNetwork-Channel-SkillsNetworkCoursesIBMDeveloperSkillsNetworkST0151ENSkillsNetwork20531532-2022-01-01\" target=\"_blank\">\n    <img src=\"https://cf-courses-data.s3.us.cloud-object-storage.appdomain.cloud/assets/logos/SN_web_lightmode.png\" width=\"200\" alt=\"Skills Network Logo\"  />\n    </a>\n</p>\n",
      "metadata": {}
    },
    {
      "cell_type": "markdown",
      "source": "# **Regression Analysis**\n",
      "metadata": {}
    },
    {
      "cell_type": "markdown",
      "source": "Estimated time needed: **30** minutes\n",
      "metadata": {}
    },
    {
      "cell_type": "markdown",
      "source": "The goal of regression analysis is to describe the relationship between one set of variables called the dependent variables, and another set of variables, called independent or explanatory variables. When there is only one explanatory variable, it is called simple regression.\n",
      "metadata": {}
    },
    {
      "cell_type": "markdown",
      "source": "## Objectives\n",
      "metadata": {}
    },
    {
      "cell_type": "markdown",
      "source": "After completing this lab you will be able to:\n",
      "metadata": {}
    },
    {
      "cell_type": "markdown",
      "source": "*   Import Libraries\n*   Regression analysis in place of the t-test\n*   Regression analysis in place of ANOVA\n*   Regression analysis in place of correlation\n",
      "metadata": {}
    },
    {
      "cell_type": "markdown",
      "source": "***\n",
      "metadata": {}
    },
    {
      "cell_type": "markdown",
      "source": "## Import Libraries\n",
      "metadata": {}
    },
    {
      "cell_type": "markdown",
      "source": "All Libraries required for this lab are listed below. The libraries pre-installed on Skills Network Labs are commented. If you run this notebook in a different environment, e.g. your desktop, you may need to uncomment and install certain libraries.\n",
      "metadata": {}
    },
    {
      "cell_type": "code",
      "source": "#install specific version of libraries used in lab\n#! mamba install pandas==1.3.3\n#! mamba install numpy=1.21.2\n#! mamba install scipy=1.7.1-y\n#!  mamba install seaborn=0.9.0-y\n#!  mamba install matplotlib=3.4.3-y\n#!  mamba install statsmodels=0.12.0-y",
      "metadata": {
        "trusted": true
      },
      "execution_count": 1,
      "outputs": []
    },
    {
      "cell_type": "markdown",
      "source": "Import the libraries we need for the lab\n",
      "metadata": {}
    },
    {
      "cell_type": "code",
      "source": "import piplite\nawait piplite.install(['numpy'],['pandas'])",
      "metadata": {
        "trusted": true
      },
      "execution_count": 2,
      "outputs": []
    },
    {
      "cell_type": "code",
      "source": "import numpy as np\nimport pandas as pd\nimport statsmodels.api as sm",
      "metadata": {
        "trusted": true
      },
      "execution_count": 3,
      "outputs": []
    },
    {
      "cell_type": "code",
      "source": "from js import fetch\nimport io\n\nURL = 'https://cf-courses-data.s3.us.cloud-object-storage.appdomain.cloud/IBMDeveloperSkillsNetwork-ST0151EN-SkillsNetwork/labs/teachingratings.csv'\nresp = await fetch(URL)\nratings_url = io.BytesIO((await resp.arrayBuffer()).to_py())",
      "metadata": {
        "trusted": true
      },
      "execution_count": 4,
      "outputs": []
    },
    {
      "cell_type": "markdown",
      "source": "Read in the csv file from the URL using the request library\n",
      "metadata": {}
    },
    {
      "cell_type": "code",
      "source": "ratings_df = pd.read_csv(ratings_url)\nratings_df",
      "metadata": {
        "trusted": true
      },
      "execution_count": 5,
      "outputs": [
        {
          "execution_count": 5,
          "output_type": "execute_result",
          "data": {
            "text/plain": "    minority  age  gender credits    beauty  eval division native tenure  \\\n0        yes   36  female    more  0.289916   4.3    upper    yes    yes   \n1        yes   36  female    more  0.289916   3.7    upper    yes    yes   \n2        yes   36  female    more  0.289916   3.6    upper    yes    yes   \n3        yes   36  female    more  0.289916   4.4    upper    yes    yes   \n4         no   59    male    more -0.737732   4.5    upper    yes    yes   \n..       ...  ...     ...     ...       ...   ...      ...    ...    ...   \n458       no   37    male    more  0.933396   3.5    upper    yes    yes   \n459       no   58  female    more  0.111563   3.5    upper    yes    yes   \n460       no   42    male    more -0.900580   4.0    upper    yes    yes   \n461       no   39    male    more  0.643014   4.3    upper    yes    yes   \n462       no   51  female    more  0.391822   3.0    upper    yes    yes   \n\n     students  allstudents  prof  PrimaryLast  vismin  female  single_credit  \\\n0          24           43     1            0       1       1              0   \n1          86          125     1            0       1       1              0   \n2          76          125     1            0       1       1              0   \n3          77          123     1            1       1       1              0   \n4          17           20     2            0       0       0              0   \n..        ...          ...   ...          ...     ...     ...            ...   \n458        15           17    40            1       0       0              0   \n459        26           34    47            1       0       1              0   \n460        45           86    61            1       0       0              0   \n461        22           29    62            1       0       0              0   \n462        47           67    69            1       0       1              0   \n\n     upper_division  English_speaker  tenured_prof  \n0                 1                1             1  \n1                 1                1             1  \n2                 1                1             1  \n3                 1                1             1  \n4                 1                1             1  \n..              ...              ...           ...  \n458               1                1             1  \n459               1                1             1  \n460               1                1             1  \n461               1                1             1  \n462               1                1             1  \n\n[463 rows x 19 columns]",
            "text/html": "<div>\n<style scoped>\n    .dataframe tbody tr th:only-of-type {\n        vertical-align: middle;\n    }\n\n    .dataframe tbody tr th {\n        vertical-align: top;\n    }\n\n    .dataframe thead th {\n        text-align: right;\n    }\n</style>\n<table border=\"1\" class=\"dataframe\">\n  <thead>\n    <tr style=\"text-align: right;\">\n      <th></th>\n      <th>minority</th>\n      <th>age</th>\n      <th>gender</th>\n      <th>credits</th>\n      <th>beauty</th>\n      <th>eval</th>\n      <th>division</th>\n      <th>native</th>\n      <th>tenure</th>\n      <th>students</th>\n      <th>allstudents</th>\n      <th>prof</th>\n      <th>PrimaryLast</th>\n      <th>vismin</th>\n      <th>female</th>\n      <th>single_credit</th>\n      <th>upper_division</th>\n      <th>English_speaker</th>\n      <th>tenured_prof</th>\n    </tr>\n  </thead>\n  <tbody>\n    <tr>\n      <th>0</th>\n      <td>yes</td>\n      <td>36</td>\n      <td>female</td>\n      <td>more</td>\n      <td>0.289916</td>\n      <td>4.3</td>\n      <td>upper</td>\n      <td>yes</td>\n      <td>yes</td>\n      <td>24</td>\n      <td>43</td>\n      <td>1</td>\n      <td>0</td>\n      <td>1</td>\n      <td>1</td>\n      <td>0</td>\n      <td>1</td>\n      <td>1</td>\n      <td>1</td>\n    </tr>\n    <tr>\n      <th>1</th>\n      <td>yes</td>\n      <td>36</td>\n      <td>female</td>\n      <td>more</td>\n      <td>0.289916</td>\n      <td>3.7</td>\n      <td>upper</td>\n      <td>yes</td>\n      <td>yes</td>\n      <td>86</td>\n      <td>125</td>\n      <td>1</td>\n      <td>0</td>\n      <td>1</td>\n      <td>1</td>\n      <td>0</td>\n      <td>1</td>\n      <td>1</td>\n      <td>1</td>\n    </tr>\n    <tr>\n      <th>2</th>\n      <td>yes</td>\n      <td>36</td>\n      <td>female</td>\n      <td>more</td>\n      <td>0.289916</td>\n      <td>3.6</td>\n      <td>upper</td>\n      <td>yes</td>\n      <td>yes</td>\n      <td>76</td>\n      <td>125</td>\n      <td>1</td>\n      <td>0</td>\n      <td>1</td>\n      <td>1</td>\n      <td>0</td>\n      <td>1</td>\n      <td>1</td>\n      <td>1</td>\n    </tr>\n    <tr>\n      <th>3</th>\n      <td>yes</td>\n      <td>36</td>\n      <td>female</td>\n      <td>more</td>\n      <td>0.289916</td>\n      <td>4.4</td>\n      <td>upper</td>\n      <td>yes</td>\n      <td>yes</td>\n      <td>77</td>\n      <td>123</td>\n      <td>1</td>\n      <td>1</td>\n      <td>1</td>\n      <td>1</td>\n      <td>0</td>\n      <td>1</td>\n      <td>1</td>\n      <td>1</td>\n    </tr>\n    <tr>\n      <th>4</th>\n      <td>no</td>\n      <td>59</td>\n      <td>male</td>\n      <td>more</td>\n      <td>-0.737732</td>\n      <td>4.5</td>\n      <td>upper</td>\n      <td>yes</td>\n      <td>yes</td>\n      <td>17</td>\n      <td>20</td>\n      <td>2</td>\n      <td>0</td>\n      <td>0</td>\n      <td>0</td>\n      <td>0</td>\n      <td>1</td>\n      <td>1</td>\n      <td>1</td>\n    </tr>\n    <tr>\n      <th>...</th>\n      <td>...</td>\n      <td>...</td>\n      <td>...</td>\n      <td>...</td>\n      <td>...</td>\n      <td>...</td>\n      <td>...</td>\n      <td>...</td>\n      <td>...</td>\n      <td>...</td>\n      <td>...</td>\n      <td>...</td>\n      <td>...</td>\n      <td>...</td>\n      <td>...</td>\n      <td>...</td>\n      <td>...</td>\n      <td>...</td>\n      <td>...</td>\n    </tr>\n    <tr>\n      <th>458</th>\n      <td>no</td>\n      <td>37</td>\n      <td>male</td>\n      <td>more</td>\n      <td>0.933396</td>\n      <td>3.5</td>\n      <td>upper</td>\n      <td>yes</td>\n      <td>yes</td>\n      <td>15</td>\n      <td>17</td>\n      <td>40</td>\n      <td>1</td>\n      <td>0</td>\n      <td>0</td>\n      <td>0</td>\n      <td>1</td>\n      <td>1</td>\n      <td>1</td>\n    </tr>\n    <tr>\n      <th>459</th>\n      <td>no</td>\n      <td>58</td>\n      <td>female</td>\n      <td>more</td>\n      <td>0.111563</td>\n      <td>3.5</td>\n      <td>upper</td>\n      <td>yes</td>\n      <td>yes</td>\n      <td>26</td>\n      <td>34</td>\n      <td>47</td>\n      <td>1</td>\n      <td>0</td>\n      <td>1</td>\n      <td>0</td>\n      <td>1</td>\n      <td>1</td>\n      <td>1</td>\n    </tr>\n    <tr>\n      <th>460</th>\n      <td>no</td>\n      <td>42</td>\n      <td>male</td>\n      <td>more</td>\n      <td>-0.900580</td>\n      <td>4.0</td>\n      <td>upper</td>\n      <td>yes</td>\n      <td>yes</td>\n      <td>45</td>\n      <td>86</td>\n      <td>61</td>\n      <td>1</td>\n      <td>0</td>\n      <td>0</td>\n      <td>0</td>\n      <td>1</td>\n      <td>1</td>\n      <td>1</td>\n    </tr>\n    <tr>\n      <th>461</th>\n      <td>no</td>\n      <td>39</td>\n      <td>male</td>\n      <td>more</td>\n      <td>0.643014</td>\n      <td>4.3</td>\n      <td>upper</td>\n      <td>yes</td>\n      <td>yes</td>\n      <td>22</td>\n      <td>29</td>\n      <td>62</td>\n      <td>1</td>\n      <td>0</td>\n      <td>0</td>\n      <td>0</td>\n      <td>1</td>\n      <td>1</td>\n      <td>1</td>\n    </tr>\n    <tr>\n      <th>462</th>\n      <td>no</td>\n      <td>51</td>\n      <td>female</td>\n      <td>more</td>\n      <td>0.391822</td>\n      <td>3.0</td>\n      <td>upper</td>\n      <td>yes</td>\n      <td>yes</td>\n      <td>47</td>\n      <td>67</td>\n      <td>69</td>\n      <td>1</td>\n      <td>0</td>\n      <td>1</td>\n      <td>0</td>\n      <td>1</td>\n      <td>1</td>\n      <td>1</td>\n    </tr>\n  </tbody>\n</table>\n<p>463 rows × 19 columns</p>\n</div>"
          },
          "metadata": {}
        }
      ]
    },
    {
      "cell_type": "markdown",
      "source": "## Lab Exercises\n",
      "metadata": {}
    },
    {
      "cell_type": "markdown",
      "source": "In this section, you will learn how to run regression analysis in place of the t-test, ANOVA, and correlation\n",
      "metadata": {}
    },
    {
      "cell_type": "markdown",
      "source": "### Regression with T-test: Using the teachers rating data set, does gender affect teaching evaluation rates?\n",
      "metadata": {}
    },
    {
      "cell_type": "markdown",
      "source": "Initially, we had used the t-test to test if there was a statistical difference in evaluations for males and females, we are now going to use regression. We will state the null hypothesis:\n\n*   $H\\_0: β1$ = 0 (Gender has no effect on teaching evaluation scores)\n*   $H\\_1: β1$ is not equal to 0 (Gender has an effect on teaching evaluation scores)\n",
      "metadata": {}
    },
    {
      "cell_type": "markdown",
      "source": "We will use the female variable. female = 1 and male = 0\n",
      "metadata": {}
    },
    {
      "cell_type": "code",
      "source": "## X is the input variables (or independent variables)\nX = ratings_df['female']\n## y is the target/dependent variable\ny = ratings_df['eval']\n## add an intercept (beta_0) to our model\nX = sm.add_constant(X) \n\nmodel = sm.OLS(y, X).fit()\npredictions = model.predict(X)\n\n# Print out the statistics\nmodel.summary()",
      "metadata": {
        "trusted": true
      },
      "execution_count": 6,
      "outputs": [
        {
          "execution_count": 6,
          "output_type": "execute_result",
          "data": {
            "text/plain": "<class 'statsmodels.iolib.summary.Summary'>\n\"\"\"\n                            OLS Regression Results                            \n==============================================================================\nDep. Variable:                   eval   R-squared:                       0.022\nModel:                            OLS   Adj. R-squared:                  0.020\nMethod:                 Least Squares   F-statistic:                     10.56\nDate:                Mon, 11 Sep 2023   Prob (F-statistic):            0.00124\nTime:                        18:17:17   Log-Likelihood:                -378.50\nNo. Observations:                 463   AIC:                             761.0\nDf Residuals:                     461   BIC:                             769.3\nDf Model:                           1                                         \nCovariance Type:            nonrobust                                         \n==============================================================================\n                 coef    std err          t      P>|t|      [0.025      0.975]\n------------------------------------------------------------------------------\nconst          4.0690      0.034    121.288      0.000       4.003       4.135\nfemale        -0.1680      0.052     -3.250      0.001      -0.270      -0.066\n==============================================================================\nOmnibus:                       17.625   Durbin-Watson:                   1.209\nProb(Omnibus):                  0.000   Jarque-Bera (JB):               18.970\nSkew:                          -0.496   Prob(JB):                     7.60e-05\nKurtosis:                       2.981   Cond. No.                         2.47\n==============================================================================\n\nNotes:\n[1] Standard Errors assume that the covariance matrix of the errors is correctly specified.\n\"\"\"",
            "text/html": "<table class=\"simpletable\">\n<caption>OLS Regression Results</caption>\n<tr>\n  <th>Dep. Variable:</th>          <td>eval</td>       <th>  R-squared:         </th> <td>   0.022</td>\n</tr>\n<tr>\n  <th>Model:</th>                   <td>OLS</td>       <th>  Adj. R-squared:    </th> <td>   0.020</td>\n</tr>\n<tr>\n  <th>Method:</th>             <td>Least Squares</td>  <th>  F-statistic:       </th> <td>   10.56</td>\n</tr>\n<tr>\n  <th>Date:</th>             <td>Mon, 11 Sep 2023</td> <th>  Prob (F-statistic):</th>  <td>0.00124</td>\n</tr>\n<tr>\n  <th>Time:</th>                 <td>18:17:17</td>     <th>  Log-Likelihood:    </th> <td> -378.50</td>\n</tr>\n<tr>\n  <th>No. Observations:</th>      <td>   463</td>      <th>  AIC:               </th> <td>   761.0</td>\n</tr>\n<tr>\n  <th>Df Residuals:</th>          <td>   461</td>      <th>  BIC:               </th> <td>   769.3</td>\n</tr>\n<tr>\n  <th>Df Model:</th>              <td>     1</td>      <th>                     </th>     <td> </td>   \n</tr>\n<tr>\n  <th>Covariance Type:</th>      <td>nonrobust</td>    <th>                     </th>     <td> </td>   \n</tr>\n</table>\n<table class=\"simpletable\">\n<tr>\n     <td></td>       <th>coef</th>     <th>std err</th>      <th>t</th>      <th>P>|t|</th>  <th>[0.025</th>    <th>0.975]</th>  \n</tr>\n<tr>\n  <th>const</th>  <td>    4.0690</td> <td>    0.034</td> <td>  121.288</td> <td> 0.000</td> <td>    4.003</td> <td>    4.135</td>\n</tr>\n<tr>\n  <th>female</th> <td>   -0.1680</td> <td>    0.052</td> <td>   -3.250</td> <td> 0.001</td> <td>   -0.270</td> <td>   -0.066</td>\n</tr>\n</table>\n<table class=\"simpletable\">\n<tr>\n  <th>Omnibus:</th>       <td>17.625</td> <th>  Durbin-Watson:     </th> <td>   1.209</td>\n</tr>\n<tr>\n  <th>Prob(Omnibus):</th> <td> 0.000</td> <th>  Jarque-Bera (JB):  </th> <td>  18.970</td>\n</tr>\n<tr>\n  <th>Skew:</th>          <td>-0.496</td> <th>  Prob(JB):          </th> <td>7.60e-05</td>\n</tr>\n<tr>\n  <th>Kurtosis:</th>      <td> 2.981</td> <th>  Cond. No.          </th> <td>    2.47</td>\n</tr>\n</table><br/><br/>Notes:<br/>[1] Standard Errors assume that the covariance matrix of the errors is correctly specified."
          },
          "metadata": {}
        }
      ]
    },
    {
      "cell_type": "markdown",
      "source": "**Conclusion:** Like the t-test, the p-value is less than the alpha (α) level = 0.05, so we reject the null hypothesis as there is evidence that there is a difference in mean evaluation scores based on gender. The coefficient -0.1680 means that females get 0.168 scores less than men.\n",
      "metadata": {}
    },
    {
      "cell_type": "markdown",
      "source": "### Regression with ANOVA: Using the teachers' rating data set, does beauty  score for instructors  differ by age?\n",
      "metadata": {}
    },
    {
      "cell_type": "markdown",
      "source": "State the Hypothesis:\n\n*   $H\\_0: µ1 = µ2 = µ3$ (the three population means are equal)\n*   $H\\_1:$ At least one of the means differ\n",
      "metadata": {}
    },
    {
      "cell_type": "markdown",
      "source": "Then we group the data like we did with ANOVA\n",
      "metadata": {}
    },
    {
      "cell_type": "code",
      "source": "ratings_df.loc[(ratings_df['age'] <= 40), 'age_group'] = '40 years and younger'\nratings_df.loc[(ratings_df['age'] > 40)&(ratings_df['age'] < 57), 'age_group'] = 'between 40 and 57 years'\nratings_df.loc[(ratings_df['age'] >= 57), 'age_group'] = '57 years and older'\nratings_df",
      "metadata": {
        "trusted": true
      },
      "execution_count": 7,
      "outputs": [
        {
          "execution_count": 7,
          "output_type": "execute_result",
          "data": {
            "text/plain": "    minority  age  gender credits    beauty  eval division native tenure  \\\n0        yes   36  female    more  0.289916   4.3    upper    yes    yes   \n1        yes   36  female    more  0.289916   3.7    upper    yes    yes   \n2        yes   36  female    more  0.289916   3.6    upper    yes    yes   \n3        yes   36  female    more  0.289916   4.4    upper    yes    yes   \n4         no   59    male    more -0.737732   4.5    upper    yes    yes   \n..       ...  ...     ...     ...       ...   ...      ...    ...    ...   \n458       no   37    male    more  0.933396   3.5    upper    yes    yes   \n459       no   58  female    more  0.111563   3.5    upper    yes    yes   \n460       no   42    male    more -0.900580   4.0    upper    yes    yes   \n461       no   39    male    more  0.643014   4.3    upper    yes    yes   \n462       no   51  female    more  0.391822   3.0    upper    yes    yes   \n\n     students  allstudents  prof  PrimaryLast  vismin  female  single_credit  \\\n0          24           43     1            0       1       1              0   \n1          86          125     1            0       1       1              0   \n2          76          125     1            0       1       1              0   \n3          77          123     1            1       1       1              0   \n4          17           20     2            0       0       0              0   \n..        ...          ...   ...          ...     ...     ...            ...   \n458        15           17    40            1       0       0              0   \n459        26           34    47            1       0       1              0   \n460        45           86    61            1       0       0              0   \n461        22           29    62            1       0       0              0   \n462        47           67    69            1       0       1              0   \n\n     upper_division  English_speaker  tenured_prof                age_group  \n0                 1                1             1     40 years and younger  \n1                 1                1             1     40 years and younger  \n2                 1                1             1     40 years and younger  \n3                 1                1             1     40 years and younger  \n4                 1                1             1       57 years and older  \n..              ...              ...           ...                      ...  \n458               1                1             1     40 years and younger  \n459               1                1             1       57 years and older  \n460               1                1             1  between 40 and 57 years  \n461               1                1             1     40 years and younger  \n462               1                1             1  between 40 and 57 years  \n\n[463 rows x 20 columns]",
            "text/html": "<div>\n<style scoped>\n    .dataframe tbody tr th:only-of-type {\n        vertical-align: middle;\n    }\n\n    .dataframe tbody tr th {\n        vertical-align: top;\n    }\n\n    .dataframe thead th {\n        text-align: right;\n    }\n</style>\n<table border=\"1\" class=\"dataframe\">\n  <thead>\n    <tr style=\"text-align: right;\">\n      <th></th>\n      <th>minority</th>\n      <th>age</th>\n      <th>gender</th>\n      <th>credits</th>\n      <th>beauty</th>\n      <th>eval</th>\n      <th>division</th>\n      <th>native</th>\n      <th>tenure</th>\n      <th>students</th>\n      <th>allstudents</th>\n      <th>prof</th>\n      <th>PrimaryLast</th>\n      <th>vismin</th>\n      <th>female</th>\n      <th>single_credit</th>\n      <th>upper_division</th>\n      <th>English_speaker</th>\n      <th>tenured_prof</th>\n      <th>age_group</th>\n    </tr>\n  </thead>\n  <tbody>\n    <tr>\n      <th>0</th>\n      <td>yes</td>\n      <td>36</td>\n      <td>female</td>\n      <td>more</td>\n      <td>0.289916</td>\n      <td>4.3</td>\n      <td>upper</td>\n      <td>yes</td>\n      <td>yes</td>\n      <td>24</td>\n      <td>43</td>\n      <td>1</td>\n      <td>0</td>\n      <td>1</td>\n      <td>1</td>\n      <td>0</td>\n      <td>1</td>\n      <td>1</td>\n      <td>1</td>\n      <td>40 years and younger</td>\n    </tr>\n    <tr>\n      <th>1</th>\n      <td>yes</td>\n      <td>36</td>\n      <td>female</td>\n      <td>more</td>\n      <td>0.289916</td>\n      <td>3.7</td>\n      <td>upper</td>\n      <td>yes</td>\n      <td>yes</td>\n      <td>86</td>\n      <td>125</td>\n      <td>1</td>\n      <td>0</td>\n      <td>1</td>\n      <td>1</td>\n      <td>0</td>\n      <td>1</td>\n      <td>1</td>\n      <td>1</td>\n      <td>40 years and younger</td>\n    </tr>\n    <tr>\n      <th>2</th>\n      <td>yes</td>\n      <td>36</td>\n      <td>female</td>\n      <td>more</td>\n      <td>0.289916</td>\n      <td>3.6</td>\n      <td>upper</td>\n      <td>yes</td>\n      <td>yes</td>\n      <td>76</td>\n      <td>125</td>\n      <td>1</td>\n      <td>0</td>\n      <td>1</td>\n      <td>1</td>\n      <td>0</td>\n      <td>1</td>\n      <td>1</td>\n      <td>1</td>\n      <td>40 years and younger</td>\n    </tr>\n    <tr>\n      <th>3</th>\n      <td>yes</td>\n      <td>36</td>\n      <td>female</td>\n      <td>more</td>\n      <td>0.289916</td>\n      <td>4.4</td>\n      <td>upper</td>\n      <td>yes</td>\n      <td>yes</td>\n      <td>77</td>\n      <td>123</td>\n      <td>1</td>\n      <td>1</td>\n      <td>1</td>\n      <td>1</td>\n      <td>0</td>\n      <td>1</td>\n      <td>1</td>\n      <td>1</td>\n      <td>40 years and younger</td>\n    </tr>\n    <tr>\n      <th>4</th>\n      <td>no</td>\n      <td>59</td>\n      <td>male</td>\n      <td>more</td>\n      <td>-0.737732</td>\n      <td>4.5</td>\n      <td>upper</td>\n      <td>yes</td>\n      <td>yes</td>\n      <td>17</td>\n      <td>20</td>\n      <td>2</td>\n      <td>0</td>\n      <td>0</td>\n      <td>0</td>\n      <td>0</td>\n      <td>1</td>\n      <td>1</td>\n      <td>1</td>\n      <td>57 years and older</td>\n    </tr>\n    <tr>\n      <th>...</th>\n      <td>...</td>\n      <td>...</td>\n      <td>...</td>\n      <td>...</td>\n      <td>...</td>\n      <td>...</td>\n      <td>...</td>\n      <td>...</td>\n      <td>...</td>\n      <td>...</td>\n      <td>...</td>\n      <td>...</td>\n      <td>...</td>\n      <td>...</td>\n      <td>...</td>\n      <td>...</td>\n      <td>...</td>\n      <td>...</td>\n      <td>...</td>\n      <td>...</td>\n    </tr>\n    <tr>\n      <th>458</th>\n      <td>no</td>\n      <td>37</td>\n      <td>male</td>\n      <td>more</td>\n      <td>0.933396</td>\n      <td>3.5</td>\n      <td>upper</td>\n      <td>yes</td>\n      <td>yes</td>\n      <td>15</td>\n      <td>17</td>\n      <td>40</td>\n      <td>1</td>\n      <td>0</td>\n      <td>0</td>\n      <td>0</td>\n      <td>1</td>\n      <td>1</td>\n      <td>1</td>\n      <td>40 years and younger</td>\n    </tr>\n    <tr>\n      <th>459</th>\n      <td>no</td>\n      <td>58</td>\n      <td>female</td>\n      <td>more</td>\n      <td>0.111563</td>\n      <td>3.5</td>\n      <td>upper</td>\n      <td>yes</td>\n      <td>yes</td>\n      <td>26</td>\n      <td>34</td>\n      <td>47</td>\n      <td>1</td>\n      <td>0</td>\n      <td>1</td>\n      <td>0</td>\n      <td>1</td>\n      <td>1</td>\n      <td>1</td>\n      <td>57 years and older</td>\n    </tr>\n    <tr>\n      <th>460</th>\n      <td>no</td>\n      <td>42</td>\n      <td>male</td>\n      <td>more</td>\n      <td>-0.900580</td>\n      <td>4.0</td>\n      <td>upper</td>\n      <td>yes</td>\n      <td>yes</td>\n      <td>45</td>\n      <td>86</td>\n      <td>61</td>\n      <td>1</td>\n      <td>0</td>\n      <td>0</td>\n      <td>0</td>\n      <td>1</td>\n      <td>1</td>\n      <td>1</td>\n      <td>between 40 and 57 years</td>\n    </tr>\n    <tr>\n      <th>461</th>\n      <td>no</td>\n      <td>39</td>\n      <td>male</td>\n      <td>more</td>\n      <td>0.643014</td>\n      <td>4.3</td>\n      <td>upper</td>\n      <td>yes</td>\n      <td>yes</td>\n      <td>22</td>\n      <td>29</td>\n      <td>62</td>\n      <td>1</td>\n      <td>0</td>\n      <td>0</td>\n      <td>0</td>\n      <td>1</td>\n      <td>1</td>\n      <td>1</td>\n      <td>40 years and younger</td>\n    </tr>\n    <tr>\n      <th>462</th>\n      <td>no</td>\n      <td>51</td>\n      <td>female</td>\n      <td>more</td>\n      <td>0.391822</td>\n      <td>3.0</td>\n      <td>upper</td>\n      <td>yes</td>\n      <td>yes</td>\n      <td>47</td>\n      <td>67</td>\n      <td>69</td>\n      <td>1</td>\n      <td>0</td>\n      <td>1</td>\n      <td>0</td>\n      <td>1</td>\n      <td>1</td>\n      <td>1</td>\n      <td>between 40 and 57 years</td>\n    </tr>\n  </tbody>\n</table>\n<p>463 rows × 20 columns</p>\n</div>"
          },
          "metadata": {}
        }
      ]
    },
    {
      "cell_type": "markdown",
      "source": "Use OLS function from the statsmodel library\n",
      "metadata": {}
    },
    {
      "cell_type": "code",
      "source": "from statsmodels.formula.api import ols\nlm = ols('beauty ~ age_group', data = ratings_df).fit()\ntable= sm.stats.anova_lm(lm)\nprint(table)",
      "metadata": {
        "trusted": true
      },
      "execution_count": 8,
      "outputs": [
        {
          "name": "stdout",
          "text": "              df      sum_sq    mean_sq          F        PR(>F)\nage_group    2.0   20.422744  10.211372  17.597559  4.322549e-08\nResidual   460.0  266.925153   0.580272        NaN           NaN\n",
          "output_type": "stream"
        }
      ]
    },
    {
      "cell_type": "markdown",
      "source": "**Conclusion:** We can also see the same values for ANOVA like before and we will reject the null hypothesis since the p-value is less than 0.05 there is significant evidence that at least one of the means differ.\n",
      "metadata": {}
    },
    {
      "cell_type": "markdown",
      "source": "### Regression with ANOVA option 2\n",
      "metadata": {}
    },
    {
      "cell_type": "markdown",
      "source": "Create dummy variables - A dummy variable is a numeric variable that represents categorical data, such as gender, race, etc. Dummy variables are dichotomous, i.e they can take on only two quantitative values.\n",
      "metadata": {}
    },
    {
      "cell_type": "code",
      "source": "X = pd.get_dummies(ratings_df[['age_group']])\nX",
      "metadata": {
        "trusted": true
      },
      "execution_count": 12,
      "outputs": [
        {
          "execution_count": 12,
          "output_type": "execute_result",
          "data": {
            "text/plain": "     age_group_40 years and younger  age_group_57 years and older  \\\n0                                 1                             0   \n1                                 1                             0   \n2                                 1                             0   \n3                                 1                             0   \n4                                 0                             1   \n..                              ...                           ...   \n458                               1                             0   \n459                               0                             1   \n460                               0                             0   \n461                               1                             0   \n462                               0                             0   \n\n     age_group_between 40 and 57 years  \n0                                    0  \n1                                    0  \n2                                    0  \n3                                    0  \n4                                    0  \n..                                 ...  \n458                                  0  \n459                                  0  \n460                                  1  \n461                                  0  \n462                                  1  \n\n[463 rows x 3 columns]",
            "text/html": "<div>\n<style scoped>\n    .dataframe tbody tr th:only-of-type {\n        vertical-align: middle;\n    }\n\n    .dataframe tbody tr th {\n        vertical-align: top;\n    }\n\n    .dataframe thead th {\n        text-align: right;\n    }\n</style>\n<table border=\"1\" class=\"dataframe\">\n  <thead>\n    <tr style=\"text-align: right;\">\n      <th></th>\n      <th>age_group_40 years and younger</th>\n      <th>age_group_57 years and older</th>\n      <th>age_group_between 40 and 57 years</th>\n    </tr>\n  </thead>\n  <tbody>\n    <tr>\n      <th>0</th>\n      <td>1</td>\n      <td>0</td>\n      <td>0</td>\n    </tr>\n    <tr>\n      <th>1</th>\n      <td>1</td>\n      <td>0</td>\n      <td>0</td>\n    </tr>\n    <tr>\n      <th>2</th>\n      <td>1</td>\n      <td>0</td>\n      <td>0</td>\n    </tr>\n    <tr>\n      <th>3</th>\n      <td>1</td>\n      <td>0</td>\n      <td>0</td>\n    </tr>\n    <tr>\n      <th>4</th>\n      <td>0</td>\n      <td>1</td>\n      <td>0</td>\n    </tr>\n    <tr>\n      <th>...</th>\n      <td>...</td>\n      <td>...</td>\n      <td>...</td>\n    </tr>\n    <tr>\n      <th>458</th>\n      <td>1</td>\n      <td>0</td>\n      <td>0</td>\n    </tr>\n    <tr>\n      <th>459</th>\n      <td>0</td>\n      <td>1</td>\n      <td>0</td>\n    </tr>\n    <tr>\n      <th>460</th>\n      <td>0</td>\n      <td>0</td>\n      <td>1</td>\n    </tr>\n    <tr>\n      <th>461</th>\n      <td>1</td>\n      <td>0</td>\n      <td>0</td>\n    </tr>\n    <tr>\n      <th>462</th>\n      <td>0</td>\n      <td>0</td>\n      <td>1</td>\n    </tr>\n  </tbody>\n</table>\n<p>463 rows × 3 columns</p>\n</div>"
          },
          "metadata": {}
        }
      ]
    },
    {
      "cell_type": "code",
      "source": "y = ratings_df['beauty']\n## add an intercept (beta_0) to our model\nX = sm.add_constant(X) \n\nmodel = sm.OLS(y, X).fit()\npredictions = model.predict(X)\n\n# Print out the statistics\nmodel.summary()",
      "metadata": {
        "trusted": true
      },
      "execution_count": 13,
      "outputs": [
        {
          "execution_count": 13,
          "output_type": "execute_result",
          "data": {
            "text/plain": "<class 'statsmodels.iolib.summary.Summary'>\n\"\"\"\n                            OLS Regression Results                            \n==============================================================================\nDep. Variable:                 beauty   R-squared:                       0.071\nModel:                            OLS   Adj. R-squared:                  0.065\nMethod:                 Least Squares   F-statistic:                     11.71\nDate:                Mon, 11 Sep 2023   Prob (F-statistic):           2.10e-07\nTime:                        18:31:25   Log-Likelihood:                -529.47\nNo. Observations:                 463   AIC:                             1067.\nDf Residuals:                     459   BIC:                             1083.\nDf Model:                           3                                         \nCovariance Type:            nonrobust                                         \n=====================================================================================================\n                                        coef    std err          t      P>|t|      [0.025      0.975]\n-----------------------------------------------------------------------------------------------------\nconst                                 0.0138      0.028      0.495      0.621      -0.041       0.069\nage_group_40 years and younger        0.3224      0.058      5.568      0.000       0.209       0.436\nage_group_57 years and older         -0.2596      0.056     -4.616      0.000      -0.370      -0.149\nage_group_between 40 and 57 years    -0.0489      0.045     -1.080      0.281      -0.138       0.040\n==============================================================================\nOmnibus:                       11.586   Durbin-Watson:                   0.434\nProb(Omnibus):                  0.003   Jarque-Bera (JB):               12.114\nSkew:                           0.394   Prob(JB):                      0.00234\nKurtosis:                       2.913   Cond. No.                     1.12e+15\n==============================================================================\n\nNotes:\n[1] Standard Errors assume that the covariance matrix of the errors is correctly specified.\n[2] The smallest eigenvalue is 5.11e-28. This might indicate that there are\nstrong multicollinearity problems or that the design matrix is singular.\n\"\"\"",
            "text/html": "<table class=\"simpletable\">\n<caption>OLS Regression Results</caption>\n<tr>\n  <th>Dep. Variable:</th>         <td>beauty</td>      <th>  R-squared:         </th> <td>   0.071</td>\n</tr>\n<tr>\n  <th>Model:</th>                   <td>OLS</td>       <th>  Adj. R-squared:    </th> <td>   0.065</td>\n</tr>\n<tr>\n  <th>Method:</th>             <td>Least Squares</td>  <th>  F-statistic:       </th> <td>   11.71</td>\n</tr>\n<tr>\n  <th>Date:</th>             <td>Mon, 11 Sep 2023</td> <th>  Prob (F-statistic):</th> <td>2.10e-07</td>\n</tr>\n<tr>\n  <th>Time:</th>                 <td>18:31:25</td>     <th>  Log-Likelihood:    </th> <td> -529.47</td>\n</tr>\n<tr>\n  <th>No. Observations:</th>      <td>   463</td>      <th>  AIC:               </th> <td>   1067.</td>\n</tr>\n<tr>\n  <th>Df Residuals:</th>          <td>   459</td>      <th>  BIC:               </th> <td>   1083.</td>\n</tr>\n<tr>\n  <th>Df Model:</th>              <td>     3</td>      <th>                     </th>     <td> </td>   \n</tr>\n<tr>\n  <th>Covariance Type:</th>      <td>nonrobust</td>    <th>                     </th>     <td> </td>   \n</tr>\n</table>\n<table class=\"simpletable\">\n<tr>\n                  <td></td>                     <th>coef</th>     <th>std err</th>      <th>t</th>      <th>P>|t|</th>  <th>[0.025</th>    <th>0.975]</th>  \n</tr>\n<tr>\n  <th>const</th>                             <td>    0.0138</td> <td>    0.028</td> <td>    0.495</td> <td> 0.621</td> <td>   -0.041</td> <td>    0.069</td>\n</tr>\n<tr>\n  <th>age_group_40 years and younger</th>    <td>    0.3224</td> <td>    0.058</td> <td>    5.568</td> <td> 0.000</td> <td>    0.209</td> <td>    0.436</td>\n</tr>\n<tr>\n  <th>age_group_57 years and older</th>      <td>   -0.2596</td> <td>    0.056</td> <td>   -4.616</td> <td> 0.000</td> <td>   -0.370</td> <td>   -0.149</td>\n</tr>\n<tr>\n  <th>age_group_between 40 and 57 years</th> <td>   -0.0489</td> <td>    0.045</td> <td>   -1.080</td> <td> 0.281</td> <td>   -0.138</td> <td>    0.040</td>\n</tr>\n</table>\n<table class=\"simpletable\">\n<tr>\n  <th>Omnibus:</th>       <td>11.586</td> <th>  Durbin-Watson:     </th> <td>   0.434</td>\n</tr>\n<tr>\n  <th>Prob(Omnibus):</th> <td> 0.003</td> <th>  Jarque-Bera (JB):  </th> <td>  12.114</td>\n</tr>\n<tr>\n  <th>Skew:</th>          <td> 0.394</td> <th>  Prob(JB):          </th> <td> 0.00234</td>\n</tr>\n<tr>\n  <th>Kurtosis:</th>      <td> 2.913</td> <th>  Cond. No.          </th> <td>1.12e+15</td>\n</tr>\n</table><br/><br/>Notes:<br/>[1] Standard Errors assume that the covariance matrix of the errors is correctly specified.<br/>[2] The smallest eigenvalue is 5.11e-28. This might indicate that there are<br/>strong multicollinearity problems or that the design matrix is singular."
          },
          "metadata": {}
        }
      ]
    },
    {
      "cell_type": "markdown",
      "source": "You will get the same results and conclusion\n",
      "metadata": {}
    },
    {
      "cell_type": "markdown",
      "source": "### Correlation: Using the teachers' rating dataset, Is teaching evaluation score correlated with beauty score?\n",
      "metadata": {}
    },
    {
      "cell_type": "code",
      "source": "## X is the input variables (or independent variables)\nX = ratings_df['beauty']\n## y is the target/dependent variable\ny = ratings_df['eval']\n## add an intercept (beta_0) to our model\nX = sm.add_constant(X) \n\nmodel = sm.OLS(y, X).fit()\npredictions = model.predict(X)\n\n# Print out the statistics\nmodel.summary()",
      "metadata": {
        "trusted": true
      },
      "execution_count": 14,
      "outputs": [
        {
          "execution_count": 14,
          "output_type": "execute_result",
          "data": {
            "text/plain": "<class 'statsmodels.iolib.summary.Summary'>\n\"\"\"\n                            OLS Regression Results                            \n==============================================================================\nDep. Variable:                   eval   R-squared:                       0.036\nModel:                            OLS   Adj. R-squared:                  0.034\nMethod:                 Least Squares   F-statistic:                     17.08\nDate:                Mon, 11 Sep 2023   Prob (F-statistic):           4.25e-05\nTime:                        18:33:41   Log-Likelihood:                -375.32\nNo. Observations:                 463   AIC:                             754.6\nDf Residuals:                     461   BIC:                             762.9\nDf Model:                           1                                         \nCovariance Type:            nonrobust                                         \n==============================================================================\n                 coef    std err          t      P>|t|      [0.025      0.975]\n------------------------------------------------------------------------------\nconst          3.9983      0.025    157.727      0.000       3.948       4.048\nbeauty         0.1330      0.032      4.133      0.000       0.070       0.196\n==============================================================================\nOmnibus:                       15.399   Durbin-Watson:                   1.238\nProb(Omnibus):                  0.000   Jarque-Bera (JB):               16.405\nSkew:                          -0.453   Prob(JB):                     0.000274\nKurtosis:                       2.831   Cond. No.                         1.27\n==============================================================================\n\nNotes:\n[1] Standard Errors assume that the covariance matrix of the errors is correctly specified.\n\"\"\"",
            "text/html": "<table class=\"simpletable\">\n<caption>OLS Regression Results</caption>\n<tr>\n  <th>Dep. Variable:</th>          <td>eval</td>       <th>  R-squared:         </th> <td>   0.036</td>\n</tr>\n<tr>\n  <th>Model:</th>                   <td>OLS</td>       <th>  Adj. R-squared:    </th> <td>   0.034</td>\n</tr>\n<tr>\n  <th>Method:</th>             <td>Least Squares</td>  <th>  F-statistic:       </th> <td>   17.08</td>\n</tr>\n<tr>\n  <th>Date:</th>             <td>Mon, 11 Sep 2023</td> <th>  Prob (F-statistic):</th> <td>4.25e-05</td>\n</tr>\n<tr>\n  <th>Time:</th>                 <td>18:33:41</td>     <th>  Log-Likelihood:    </th> <td> -375.32</td>\n</tr>\n<tr>\n  <th>No. Observations:</th>      <td>   463</td>      <th>  AIC:               </th> <td>   754.6</td>\n</tr>\n<tr>\n  <th>Df Residuals:</th>          <td>   461</td>      <th>  BIC:               </th> <td>   762.9</td>\n</tr>\n<tr>\n  <th>Df Model:</th>              <td>     1</td>      <th>                     </th>     <td> </td>   \n</tr>\n<tr>\n  <th>Covariance Type:</th>      <td>nonrobust</td>    <th>                     </th>     <td> </td>   \n</tr>\n</table>\n<table class=\"simpletable\">\n<tr>\n     <td></td>       <th>coef</th>     <th>std err</th>      <th>t</th>      <th>P>|t|</th>  <th>[0.025</th>    <th>0.975]</th>  \n</tr>\n<tr>\n  <th>const</th>  <td>    3.9983</td> <td>    0.025</td> <td>  157.727</td> <td> 0.000</td> <td>    3.948</td> <td>    4.048</td>\n</tr>\n<tr>\n  <th>beauty</th> <td>    0.1330</td> <td>    0.032</td> <td>    4.133</td> <td> 0.000</td> <td>    0.070</td> <td>    0.196</td>\n</tr>\n</table>\n<table class=\"simpletable\">\n<tr>\n  <th>Omnibus:</th>       <td>15.399</td> <th>  Durbin-Watson:     </th> <td>   1.238</td>\n</tr>\n<tr>\n  <th>Prob(Omnibus):</th> <td> 0.000</td> <th>  Jarque-Bera (JB):  </th> <td>  16.405</td>\n</tr>\n<tr>\n  <th>Skew:</th>          <td>-0.453</td> <th>  Prob(JB):          </th> <td>0.000274</td>\n</tr>\n<tr>\n  <th>Kurtosis:</th>      <td> 2.831</td> <th>  Cond. No.          </th> <td>    1.27</td>\n</tr>\n</table><br/><br/>Notes:<br/>[1] Standard Errors assume that the covariance matrix of the errors is correctly specified."
          },
          "metadata": {}
        }
      ]
    },
    {
      "cell_type": "markdown",
      "source": "**Conclusion:** p < 0.05 there is evidence of correlation between beauty and evaluation scores\n",
      "metadata": {}
    },
    {
      "cell_type": "markdown",
      "source": "## Practice Questions\n",
      "metadata": {}
    },
    {
      "cell_type": "markdown",
      "source": "### Question 1: Using the teachers' rating data set, does tenure affect beauty scores?\n\n*   Use α = 0.05\n",
      "metadata": {}
    },
    {
      "cell_type": "code",
      "source": "### insert code here\nimport statsmodels.api as sm\n\nx = ratings_df['tenured_prof'] #要抓(1/0)的資料 不是(yes/no) #the OLS library doesn't recognize texts\ny = ratings_df['beauty']\n\nx = sm.add_constant(x)\n\nmodel = sm.OLS(y, x).fit()\npredictions = model.predict(x)\nmodel.summary()",
      "metadata": {
        "trusted": true
      },
      "execution_count": 20,
      "outputs": [
        {
          "execution_count": 20,
          "output_type": "execute_result",
          "data": {
            "text/plain": "<class 'statsmodels.iolib.summary.Summary'>\n\"\"\"\n                            OLS Regression Results                            \n==============================================================================\nDep. Variable:                 beauty   R-squared:                       0.000\nModel:                            OLS   Adj. R-squared:                 -0.002\nMethod:                 Least Squares   F-statistic:                    0.1689\nDate:                Mon, 11 Sep 2023   Prob (F-statistic):              0.681\nTime:                        18:43:54   Log-Likelihood:                -546.45\nNo. Observations:                 463   AIC:                             1097.\nDf Residuals:                     461   BIC:                             1105.\nDf Model:                           1                                         \nCovariance Type:            nonrobust                                         \n================================================================================\n                   coef    std err          t      P>|t|      [0.025      0.975]\n--------------------------------------------------------------------------------\nconst            0.0284      0.078      0.363      0.717      -0.125       0.182\ntenured_prof    -0.0364      0.089     -0.411      0.681      -0.210       0.138\n==============================================================================\nOmnibus:                       23.184   Durbin-Watson:                   0.461\nProb(Omnibus):                  0.000   Jarque-Bera (JB):               23.229\nSkew:                           0.507   Prob(JB):                     9.03e-06\nKurtosis:                       2.583   Cond. No.                         4.05\n==============================================================================\n\nNotes:\n[1] Standard Errors assume that the covariance matrix of the errors is correctly specified.\n\"\"\"",
            "text/html": "<table class=\"simpletable\">\n<caption>OLS Regression Results</caption>\n<tr>\n  <th>Dep. Variable:</th>         <td>beauty</td>      <th>  R-squared:         </th> <td>   0.000</td>\n</tr>\n<tr>\n  <th>Model:</th>                   <td>OLS</td>       <th>  Adj. R-squared:    </th> <td>  -0.002</td>\n</tr>\n<tr>\n  <th>Method:</th>             <td>Least Squares</td>  <th>  F-statistic:       </th> <td>  0.1689</td>\n</tr>\n<tr>\n  <th>Date:</th>             <td>Mon, 11 Sep 2023</td> <th>  Prob (F-statistic):</th>  <td> 0.681</td> \n</tr>\n<tr>\n  <th>Time:</th>                 <td>18:43:54</td>     <th>  Log-Likelihood:    </th> <td> -546.45</td>\n</tr>\n<tr>\n  <th>No. Observations:</th>      <td>   463</td>      <th>  AIC:               </th> <td>   1097.</td>\n</tr>\n<tr>\n  <th>Df Residuals:</th>          <td>   461</td>      <th>  BIC:               </th> <td>   1105.</td>\n</tr>\n<tr>\n  <th>Df Model:</th>              <td>     1</td>      <th>                     </th>     <td> </td>   \n</tr>\n<tr>\n  <th>Covariance Type:</th>      <td>nonrobust</td>    <th>                     </th>     <td> </td>   \n</tr>\n</table>\n<table class=\"simpletable\">\n<tr>\n        <td></td>          <th>coef</th>     <th>std err</th>      <th>t</th>      <th>P>|t|</th>  <th>[0.025</th>    <th>0.975]</th>  \n</tr>\n<tr>\n  <th>const</th>        <td>    0.0284</td> <td>    0.078</td> <td>    0.363</td> <td> 0.717</td> <td>   -0.125</td> <td>    0.182</td>\n</tr>\n<tr>\n  <th>tenured_prof</th> <td>   -0.0364</td> <td>    0.089</td> <td>   -0.411</td> <td> 0.681</td> <td>   -0.210</td> <td>    0.138</td>\n</tr>\n</table>\n<table class=\"simpletable\">\n<tr>\n  <th>Omnibus:</th>       <td>23.184</td> <th>  Durbin-Watson:     </th> <td>   0.461</td>\n</tr>\n<tr>\n  <th>Prob(Omnibus):</th> <td> 0.000</td> <th>  Jarque-Bera (JB):  </th> <td>  23.229</td>\n</tr>\n<tr>\n  <th>Skew:</th>          <td> 0.507</td> <th>  Prob(JB):          </th> <td>9.03e-06</td>\n</tr>\n<tr>\n  <th>Kurtosis:</th>      <td> 2.583</td> <th>  Cond. No.          </th> <td>    4.05</td>\n</tr>\n</table><br/><br/>Notes:<br/>[1] Standard Errors assume that the covariance matrix of the errors is correctly specified."
          },
          "metadata": {}
        }
      ]
    },
    {
      "cell_type": "markdown",
      "source": "Double-click **here** for a hint.\n\n<!-- The hint is below:\n## State Hypothesis\nNull Hypothesis: Mean beauty scores for tenured and non-tenured instructors are equal\nAlternative Hypothesis: There is a difference in mean beauty scores for tenured and non-tenured instructors\n\n## use the dummy variable for tenure - the OLS library doesn't recognize texts\nX = ratings_df['tenured_prof']\n-->\n",
      "metadata": {}
    },
    {
      "cell_type": "markdown",
      "source": "Double-click **here** for the solution.\n\n<!-- The answer is below:\n## put beauty scores in a list\ny = ratings_df['beauty']\n## add an intercept (beta_0) to our model\nX = sm.add_constant(X) \n\nmodel = sm.OLS(y, X).fit()\npredictions = model.predict(X)\n\n# Print out the statistics\nmodel.summary()\np-value is greater than 0.05, so we fail to reject the null hypothesis as there is no evidence that the mean difference of tenured and untenured instructors are different\n-->\n",
      "metadata": {}
    },
    {
      "cell_type": "markdown",
      "source": "### Question 2: Using the teachers' rating data set, does being an English speaker affect the number of students assigned to professors?\n\n*   Use \"allstudents\"\n*   Use α = 0.05 and α = 0.1\n",
      "metadata": {}
    },
    {
      "cell_type": "code",
      "source": "## insert code here\nx=ratings_df['English_speaker']\ny=ratings_df['allstudents']\n\nx = sm.add_constant(x)\n\nmodel = sm.OLS(y, x).fit()\npredictions = model.predict(x)\nprint(model.summary())\n\nprint('At α = 0.05, we do not reject the H0, which indicates that being an native speaker do not affect the number of students assigned to professors')\nprint('At α = 0.1, we reject the H0, which indicates that being an native speaker does affect the number of students assigned to professors')",
      "metadata": {
        "trusted": true
      },
      "execution_count": 23,
      "outputs": [
        {
          "name": "stdout",
          "text": "                            OLS Regression Results                            \n==============================================================================\nDep. Variable:            allstudents   R-squared:                       0.007\nModel:                            OLS   Adj. R-squared:                  0.005\nMethod:                 Least Squares   F-statistic:                     3.476\nDate:                Mon, 11 Sep 2023   Prob (F-statistic):             0.0629\nTime:                        18:55:29   Log-Likelihood:                -2654.2\nNo. Observations:                 463   AIC:                             5312.\nDf Residuals:                     461   BIC:                             5321.\nDf Model:                           1                                         \nCovariance Type:            nonrobust                                         \n===================================================================================\n                      coef    std err          t      P>|t|      [0.025      0.975]\n-----------------------------------------------------------------------------------\nconst              29.6071     14.150      2.092      0.037       1.802      57.413\nEnglish_speaker    27.2158     14.598      1.864      0.063      -1.471      55.902\n==============================================================================\nOmnibus:                      429.792   Durbin-Watson:                   0.708\nProb(Omnibus):                  0.000   Jarque-Bera (JB):            10527.126\nSkew:                           4.129   Prob(JB):                         0.00\nKurtosis:                      24.852   Cond. No.                         8.01\n==============================================================================\n\nNotes:\n[1] Standard Errors assume that the covariance matrix of the errors is correctly specified.\nAt α = 0.05, we do not reject the H0, which indicates that being an native speaker do not affect the number of students assigned to professors\nAt α = 0.1, we reject the H0, which indicates that being an native speaker does affect the number of students assigned to professors\n",
          "output_type": "stream"
        }
      ]
    },
    {
      "cell_type": "markdown",
      "source": "Double-click **here** for a hint.\n\n<!-- The hint is below:\n## State Hypothesis\nNull Hypothesis: Mean number of students assigned to native English speakers vs non-native English speakers are equal\nAlternative Hypothesis: There is a difference in mean number of students assigned to native English speakers vs non-native English speakers\n\n## Is the instructor a native English speaker - make sure to use the binary variable \"English speaker\"\nX = ratings_df['English_speaker']\n## You can use the students or all students variable\ny = ratings_df['allstudents']\n-->\n",
      "metadata": {}
    },
    {
      "cell_type": "markdown",
      "source": "Double-click **here** for the solution.\n\n<!-- The answer is below:\n## add an intercept (beta_0) to our model\nX = sm.add_constant(X) \n\nmodel = sm.OLS(y, X).fit()\npredictions = model.predict(X)\n\n# Print out the statistics\nmodel.summary()\n\nAt α = 0.05, p-value is greater, we fail to reject the null hypothesis as there is no evidence that being a native English speaker or a non-native English speaker affects the number of students assigned to an instructor.\nAt α = 0.1, p-value is less, we reject the null hypothesis as there is evidence that there is a significant difference of mean number of students assigned to native English speakers vs non-native English speakers.\n-->\n",
      "metadata": {}
    },
    {
      "cell_type": "markdown",
      "source": "### Question 3: Using the teachers' rating data set, what is the correlation between the number of students who participated in the evaluation survey and evaluation scores?\n\n*   Use \"students\" variable\n",
      "metadata": {}
    },
    {
      "cell_type": "code",
      "source": "## insert code here\nx=ratings_df['students']\ny=ratings_df['eval']\n\nx = sm.add_constant(x)\n\nmodel = sm.OLS(y, x).fit()\npredictions = model.predict(x)\nprint(model.summary())\nprint('Do not reject H0, indicating that there is no correlation between the number of students who participated in the evaluation survey and evaluation scores')",
      "metadata": {
        "trusted": true
      },
      "execution_count": 25,
      "outputs": [
        {
          "name": "stdout",
          "text": "                            OLS Regression Results                            \n==============================================================================\nDep. Variable:                   eval   R-squared:                       0.001\nModel:                            OLS   Adj. R-squared:                 -0.001\nMethod:                 Least Squares   F-statistic:                    0.5806\nDate:                Mon, 11 Sep 2023   Prob (F-statistic):              0.446\nTime:                        19:03:07   Log-Likelihood:                -383.46\nNo. Observations:                 463   AIC:                             770.9\nDf Residuals:                     461   BIC:                             779.2\nDf Model:                           1                                         \nCovariance Type:            nonrobust                                         \n==============================================================================\n                 coef    std err          t      P>|t|      [0.025      0.975]\n------------------------------------------------------------------------------\nconst          3.9823      0.033    119.689      0.000       3.917       4.048\nstudents       0.0004      0.001      0.762      0.446      -0.001       0.002\n==============================================================================\nOmnibus:                       15.259   Durbin-Watson:                   1.198\nProb(Omnibus):                  0.000   Jarque-Bera (JB):               16.283\nSkew:                          -0.456   Prob(JB):                     0.000291\nKurtosis:                       2.888   Cond. No.                         74.8\n==============================================================================\n\nNotes:\n[1] Standard Errors assume that the covariance matrix of the errors is correctly specified.\nDo not reject H0, indicating that there is no correlation between the number of students who participated in the evaluation survey and evaluation scores\n",
          "output_type": "stream"
        }
      ]
    },
    {
      "cell_type": "markdown",
      "source": "Double-click **here** for a hint.\n\n<!-- The hint is below:\n## create a list of students and evaluation socres\nX = ratings_df['students']\ny = ratings_df['eval']\n-->\n",
      "metadata": {}
    },
    {
      "cell_type": "markdown",
      "source": "Double-click **here** for the solution.\n\n<!-- The rest of the answer is below:\n## add an intercept (beta_0) to our model\nX = sm.add_constant(X) \n\nmodel = sm.OLS(y, X).fit()\npredictions = model.predict(X)\n\n# Print out the statistics\nmodel.summary()\n\nR-square is 0.001, R will be √0.001, correlation coefficient is 0.03 (close to 0). There is a very weak correlation between the number of students who participated in the evaluation survey and evaluation scores\n-->\n",
      "metadata": {}
    },
    {
      "cell_type": "markdown",
      "source": "## Authors\n\n[Pratiksha Verma](https://www.linkedin.com/in/pratiksha-verma-6487561b1/?utm_medium=Exinfluencer&utm_source=Exinfluencer&utm_content=000026UJ&utm_term=10006555&utm_id=NA-SkillsNetwork-Channel-SkillsNetworkCoursesIBMDeveloperSkillsNetworkST0151ENSkillsNetwork956-2022-01-01)\n\n## Change Log\n\n| Date (YYYY-MM-DD) | Version | Changed By      | Change Description      |\n| ----------------- | ------- | -------------   | ----------------------- |\n| 2022-11-09        | 1.0     | Pratiksha Verma | Converted initial version to Jupyterlite|\n\n\n<hr>\n\n## <h3 align=\"center\"> IBM Corporation 2022. All rights reserved. <h3/>\n",
      "metadata": {}
    }
  ]
}